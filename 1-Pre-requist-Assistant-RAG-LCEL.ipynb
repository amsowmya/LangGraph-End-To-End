{
 "cells": [
  {
   "cell_type": "code",
   "execution_count": 54,
   "metadata": {},
   "outputs": [],
   "source": [
    "import os\n",
    "from dotenv import load_dotenv\n",
    "\n",
    "load_dotenv()\n",
    "\n",
    "groq_api_key = os.getenv(\"GROQ_API_KEY\")\n",
    "\n",
    "os.environ['LANGCHAIN_API_KEY'] = os.getenv('LANGCHAIN_API_KEY')\n",
    "os.environ['LANGCHAIN_PROJECT'] = os.getenv('LANGCHAIN_PROJECT')\n",
    "os.environ['LANGCHAIN_TRACING_V2'] = 'true'\n",
    "os.environ['HF_TOKEN'] = os.getenv('HF_TOKEN')\n",
    "os.environ['TAVILY_API_KEY'] = os.getenv('TAVILY_API_KEY')"
   ]
  },
  {
   "cell_type": "code",
   "execution_count": 2,
   "metadata": {},
   "outputs": [
    {
     "data": {
      "text/plain": [
       "ChatGroq(client=<groq.resources.chat.completions.Completions object at 0x000001C2CA2B2C20>, async_client=<groq.resources.chat.completions.AsyncCompletions object at 0x000001C2CA2B1960>, model_name='gemma2-9b-it', model_kwargs={}, groq_api_key=SecretStr('**********'))"
      ]
     },
     "execution_count": 2,
     "metadata": {},
     "output_type": "execute_result"
    }
   ],
   "source": [
    "from langchain_groq import ChatGroq\n",
    "\n",
    "llm = ChatGroq(model='gemma2-9b-it', groq_api_key=groq_api_key)\n",
    "llm"
   ]
  },
  {
   "cell_type": "markdown",
   "metadata": {},
   "source": [
    "# Simple AI Assistant"
   ]
  },
  {
   "cell_type": "code",
   "execution_count": 3,
   "metadata": {},
   "outputs": [
    {
     "name": "stdout",
     "output_type": "stream",
     "text": [
      "LoRA stands for **Low-Rank Adaptation**. It's a technique used in machine learning, particularly in the field of large language models (LLMs), to fine-tune pre-trained models efficiently. \n",
      "\n",
      "Here's a breakdown:\n",
      "\n",
      "**The Problem:**\n",
      "\n",
      "* **Large Models, Large Resources:** LLMs are massive, with millions or even billions of parameters. Fine-tuning them from scratch on a specific task is computationally expensive and requires a lot of data.\n",
      "\n",
      "**LoRA's Solution:**\n",
      "\n",
      "* **Focus on Adaptable Parameters:** LoRA freezes most of the original model's weights and introduces a small set of **low-rank matrices** that are trained on the new task. These matrices capture the task-specific knowledge.\n",
      "* **Efficiency:**  Because only a small number of parameters are updated, LoRA requires significantly less memory and computation compared to full fine-tuning.\n",
      "\n",
      "**Benefits of LoRA:**\n",
      "\n",
      "* **Faster Training:**  Training is much quicker due to the reduced number of parameters.\n",
      "* **Lower Memory Requirements:** LoRA is more memory-efficient, allowing you to fine-tune large models on devices with limited resources.\n",
      "* **Better Generalization:**  By keeping most of the original model's weights frozen, LoRA can help prevent overfitting to the new task.\n",
      "* **Modular Fine-tuning:** You can train multiple LoRA modules for different tasks and easily switch between them.\n",
      "\n",
      "**Applications:**\n",
      "\n",
      "* **Text Generation:** Adapting LLMs to generate different writing styles, translate languages, or summarize text.\n",
      "* **Code Generation:** Fine-tuning LLMs for specific programming languages or coding tasks.\n",
      "* **Question Answering:**  Improving the accuracy of LLMs in answering factual questions.\n",
      "* **Dialogue Systems:**  Tailoring LLMs to specific conversational domains.\n",
      "\n",
      "**Overall, LoRA is a powerful technique that makes fine-tuning large language models more accessible and efficient.**\n",
      "\n",
      "\n",
      "Let me know if you have any other questions about LoRA!\n",
      "\n",
      "\"QLoRA\" stands for **Quantized Low-Rank Adaptation**. It's a powerful and efficient technique for fine-tuning large language models (LLMs). \n",
      "\n",
      "Here's a breakdown:\n",
      "\n",
      "**The Challenge:**\n",
      "\n",
      "Fine-tuning massive LLMs is computationally expensive and requires significant memory. This makes it difficult for researchers and developers with limited resources to adapt these models to specific tasks or domains.\n",
      "\n",
      "**QLoRA's Solution:**\n",
      "\n",
      "QLoRA addresses this challenge by:\n",
      "\n",
      "* **Quantization:** Reducing the precision of model weights from 32-bit floating point to 4-bit integers. This significantly lowers memory requirements.\n",
      "* **Low-Rank Adaptation:** Instead of updating all model parameters during fine-tuning, QLoRA focuses on updating a smaller set of \"adapter\" parameters. These adapters capture task-specific knowledge while preserving the general knowledge learned by the pre-trained LLM.\n",
      "\n",
      "**Benefits of QLoRA:**\n",
      "\n",
      "* **Efficiency:**  Significantly reduces memory footprint and training time compared to full fine-tuning.\n",
      "* **Accuracy:**  Achieves comparable or even better performance than full fine-tuning in many cases.\n",
      "* **Accessibility:** Makes fine-tuning LLMs more accessible to researchers and developers with limited resources.\n",
      "\n",
      "**Applications:**\n",
      "\n",
      "QLoRA has been successfully applied to various tasks, including:\n",
      "\n",
      "* **Text Classification:** Adapting LLMs for sentiment analysis, topic classification, and other text categorization tasks.\n",
      "* **Question Answering:** Fine-tuning LLMs to answer questions accurately and comprehensively.\n",
      "* **Dialogue Generation:** Improving the quality and coherence of chatbot responses.\n",
      "* **Code Generation:** Adapting LLMs for code completion and generation tasks.\n",
      "\n",
      "**Overall, QLoRA is a game-changer for LLM fine-tuning, making it faster, cheaper, and more accessible.**\n",
      "\n",
      "\n",
      "Let me know if you have any other questions or want to explore specific aspects of QLoRA in more detail!\n",
      "\n",
      "goodbye take cre yourself\n"
     ]
    }
   ],
   "source": [
    "while True:\n",
    "    question = input(\"Type your question. If you want to quit the chat write quit\")\n",
    "    if question != \"quit\":\n",
    "        print(llm.invoke(question).content)\n",
    "    else:\n",
    "        print(\"goodbye take cre yourself\")\n",
    "        break"
   ]
  },
  {
   "cell_type": "code",
   "execution_count": 4,
   "metadata": {},
   "outputs": [],
   "source": [
    "from langchain_core.chat_history import InMemoryChatMessageHistory\n",
    "from langchain_core.chat_history import BaseChatMessageHistory\n",
    "from langchain_core.runnables.history import RunnableWithMessageHistory\n",
    "from langchain_core.messages import AIMessage"
   ]
  },
  {
   "cell_type": "code",
   "execution_count": 5,
   "metadata": {},
   "outputs": [],
   "source": [
    "store = {}"
   ]
  },
  {
   "cell_type": "code",
   "execution_count": 6,
   "metadata": {},
   "outputs": [],
   "source": [
    "def get_session_history(session_id: str) -> BaseChatMessageHistory:\n",
    "    if session_id not in store:\n",
    "        store[session_id] = InMemoryChatMessageHistory()\n",
    "    return store[session_id]"
   ]
  },
  {
   "cell_type": "code",
   "execution_count": 7,
   "metadata": {},
   "outputs": [],
   "source": [
    "config = {\"configurable\": {\"session_id\": \"firstchat\"}}"
   ]
  },
  {
   "cell_type": "code",
   "execution_count": 8,
   "metadata": {},
   "outputs": [],
   "source": [
    "model_with_memory = RunnableWithMessageHistory(llm, get_session_history)"
   ]
  },
  {
   "cell_type": "code",
   "execution_count": 9,
   "metadata": {},
   "outputs": [
    {
     "data": {
      "text/plain": [
       "\"Hi Sam, it's nice to meet you! 👋\\n\\nWhat can I do for you today? 😊\\n\""
      ]
     },
     "execution_count": 9,
     "metadata": {},
     "output_type": "execute_result"
    }
   ],
   "source": [
    "model_with_memory.invoke((\"Hi! I'm Sam\"), config=config).content"
   ]
  },
  {
   "cell_type": "code",
   "execution_count": 12,
   "metadata": {},
   "outputs": [
    {
     "data": {
      "text/plain": [
       "'Your name is Sam. 😊  \\n\\nWhat else can I help you with?  \\n'"
      ]
     },
     "execution_count": 12,
     "metadata": {},
     "output_type": "execute_result"
    }
   ],
   "source": [
    "model_with_memory.invoke(\"Tell my name\", config=config).content"
   ]
  },
  {
   "cell_type": "code",
   "execution_count": 13,
   "metadata": {},
   "outputs": [
    {
     "data": {
      "text/plain": [
       "{'firstchat': InMemoryChatMessageHistory(messages=[HumanMessage(content=\"Hi! I'm Sam\", additional_kwargs={}, response_metadata={}), AIMessage(content=\"Hi Sam, it's nice to meet you! 👋\\n\\nWhat can I do for you today? 😊\\n\", additional_kwargs={}, response_metadata={'token_usage': {'completion_tokens': 25, 'prompt_tokens': 15, 'total_tokens': 40, 'completion_time': 0.045454545, 'prompt_time': 8.001e-05, 'queue_time': 0.015259907999999999, 'total_time': 0.045534555}, 'model_name': 'gemma2-9b-it', 'system_fingerprint': 'fp_10c08bf97d', 'finish_reason': 'stop', 'logprobs': None}, id='run-2f69b097-e4b1-4b15-a179-1bc853dad746-0', usage_metadata={'input_tokens': 15, 'output_tokens': 25, 'total_tokens': 40}), HumanMessage(content='Tell me who I am', additional_kwargs={}, response_metadata={}), AIMessage(content=\"As an AI, I don't have access to any personal information about you, including your identity.  \\n\\nSo, I can't tell you who you are. \\n\\nIs there anything else you'd like to talk about?  Maybe you could tell me about yourself! 😊  \\n\\n\", additional_kwargs={}, response_metadata={'token_usage': {'completion_tokens': 64, 'prompt_tokens': 53, 'total_tokens': 117, 'completion_time': 0.116363636, 'prompt_time': 0.001877403, 'queue_time': 0.012821444, 'total_time': 0.118241039}, 'model_name': 'gemma2-9b-it', 'system_fingerprint': 'fp_10c08bf97d', 'finish_reason': 'stop', 'logprobs': None}, id='run-78df6fc3-7d9d-4ca0-84c5-2da5d4d496c5-0', usage_metadata={'input_tokens': 53, 'output_tokens': 64, 'total_tokens': 117}), HumanMessage(content='Tell me who I am', additional_kwargs={}, response_metadata={}), AIMessage(content=\"You're Sam, a curious person who is interacting with me, an AI language model! \\n\\nIs there anything else you'd like to know or talk about? 😊  \\n\\n\", additional_kwargs={}, response_metadata={'token_usage': {'completion_tokens': 41, 'prompt_tokens': 129, 'total_tokens': 170, 'completion_time': 0.074545455, 'prompt_time': 0.003724586, 'queue_time': 0.010989424, 'total_time': 0.078270041}, 'model_name': 'gemma2-9b-it', 'system_fingerprint': 'fp_10c08bf97d', 'finish_reason': 'stop', 'logprobs': None}, id='run-41662372-e486-4f4a-90d8-5a55431fb9c2-0', usage_metadata={'input_tokens': 129, 'output_tokens': 41, 'total_tokens': 170}), HumanMessage(content='Tell my name', additional_kwargs={}, response_metadata={}), AIMessage(content='Your name is Sam. 😊  \\n\\nWhat else can I help you with?  \\n', additional_kwargs={}, response_metadata={'token_usage': {'completion_tokens': 20, 'prompt_tokens': 180, 'total_tokens': 200, 'completion_time': 0.036363636, 'prompt_time': 0.005291679, 'queue_time': 0.009124011000000001, 'total_time': 0.041655315}, 'model_name': 'gemma2-9b-it', 'system_fingerprint': 'fp_10c08bf97d', 'finish_reason': 'stop', 'logprobs': None}, id='run-d4f60d70-f09c-4197-98df-f8f521dca0ec-0', usage_metadata={'input_tokens': 180, 'output_tokens': 20, 'total_tokens': 200})])}"
      ]
     },
     "execution_count": 13,
     "metadata": {},
     "output_type": "execute_result"
    }
   ],
   "source": [
    "store"
   ]
  },
  {
   "cell_type": "markdown",
   "metadata": {},
   "source": [
    "## RAG with LCEL"
   ]
  },
  {
   "cell_type": "code",
   "execution_count": 14,
   "metadata": {},
   "outputs": [],
   "source": [
    "from langchain_community.document_loaders import TextLoader, DirectoryLoader\n",
    "from langchain_text_splitters import RecursiveCharacterTextSplitter\n",
    "from langchain_chroma import Chroma\n",
    "from langchain_core.prompts import PromptTemplate\n",
    "from langchain_core.runnables import RunnableParallel, RunnablePassthrough, RunnableLambda\n",
    "from langchain_core.output_parsers import StrOutputParser"
   ]
  },
  {
   "cell_type": "code",
   "execution_count": 21,
   "metadata": {},
   "outputs": [
    {
     "name": "stderr",
     "output_type": "stream",
     "text": [
      "c:\\Users\\2260927\\Anaconda3\\envs\\langchain\\lib\\site-packages\\tqdm\\auto.py:21: TqdmWarning: IProgress not found. Please update jupyter and ipywidgets. See https://ipywidgets.readthedocs.io/en/stable/user_install.html\n",
      "  from .autonotebook import tqdm as notebook_tqdm\n"
     ]
    }
   ],
   "source": [
    "from langchain_huggingface.embeddings import HuggingFaceEmbeddings\n",
    "\n",
    "embedding = HuggingFaceEmbeddings(model_name='all-MiniLM-L6-v2')"
   ]
  },
  {
   "cell_type": "code",
   "execution_count": 34,
   "metadata": {},
   "outputs": [],
   "source": [
    "loader = TextLoader('C:\\Sowmya\\Personal\\Langchain_new\\LangGraph-End-To-End\\data\\llama3.txt')\n",
    "docs = loader.load()\n",
    "\n",
    "text_splitter = RecursiveCharacterTextSplitter(chunk_size=200, chunk_overlap=50)\n",
    "documents = text_splitter.split_documents(docs)\n",
    "\n",
    "vectorstore = Chroma.from_documents(documents, embedding)\n",
    "retriever = vectorstore.as_retriever(search_kwargs={\"k\":4})"
   ]
  },
  {
   "cell_type": "code",
   "execution_count": 36,
   "metadata": {},
   "outputs": [],
   "source": [
    "template = \"\"\" Answer the following question based on following context:\n",
    "{context}\n",
    "\n",
    "Question: {question}\n",
    "\"\"\"\n",
    "\n",
    "prompt = PromptTemplate.from_template(template)"
   ]
  },
  {
   "cell_type": "code",
   "execution_count": 37,
   "metadata": {},
   "outputs": [],
   "source": [
    "retrieval_chain = (\n",
    "    RunnableParallel({\"context\": retriever, \"question\": RunnablePassthrough()})\n",
    "    | prompt \n",
    "    | llm \n",
    "    | StrOutputParser()\n",
    ")"
   ]
  },
  {
   "cell_type": "code",
   "execution_count": 38,
   "metadata": {},
   "outputs": [
    {
     "data": {
      "text/plain": [
       "'Based on the provided context, Llama 3 is an open-source large language model (LLM) whose development focuses on increasing its helpfulness. The creators are also committed to responsible use and deployment of this technology. \\n\\n\\n'"
      ]
     },
     "execution_count": 38,
     "metadata": {},
     "output_type": "execute_result"
    }
   ],
   "source": [
    "question = \"What is llama3?\"\n",
    "\n",
    "retrieval_chain.invoke(question)"
   ]
  },
  {
   "cell_type": "markdown",
   "metadata": {},
   "source": [
    "# Tools and Agent"
   ]
  },
  {
   "cell_type": "code",
   "execution_count": 39,
   "metadata": {},
   "outputs": [],
   "source": [
    "from langchain_community.tools import WikipediaQueryRun\n",
    "from langchain_community.utilities import WikipediaAPIWrapper"
   ]
  },
  {
   "cell_type": "code",
   "execution_count": 40,
   "metadata": {},
   "outputs": [],
   "source": [
    "api_wrapper = WikipediaAPIWrapper()"
   ]
  },
  {
   "cell_type": "code",
   "execution_count": 41,
   "metadata": {},
   "outputs": [],
   "source": [
    "tool = WikipediaQueryRun(api_wrapper=api_wrapper)"
   ]
  },
  {
   "cell_type": "code",
   "execution_count": 42,
   "metadata": {},
   "outputs": [
    {
     "data": {
      "text/plain": [
       "WikipediaQueryRun(api_wrapper=WikipediaAPIWrapper(wiki_client=<module 'wikipedia' from 'c:\\\\Users\\\\2260927\\\\Anaconda3\\\\envs\\\\langchain\\\\lib\\\\site-packages\\\\wikipedia\\\\__init__.py'>, top_k_results=3, lang='en', load_all_available_meta=False, doc_content_chars_max=4000))"
      ]
     },
     "execution_count": 42,
     "metadata": {},
     "output_type": "execute_result"
    }
   ],
   "source": [
    "tool"
   ]
  },
  {
   "cell_type": "code",
   "execution_count": 44,
   "metadata": {},
   "outputs": [
    {
     "data": {
      "text/plain": [
       "('wikipedia',\n",
       " 'A wrapper around Wikipedia. Useful for when you need to answer general questions about people, places, companies, facts, historical events, or other subjects. Input should be a search query.')"
      ]
     },
     "execution_count": 44,
     "metadata": {},
     "output_type": "execute_result"
    }
   ],
   "source": [
    "tool.name, tool.description"
   ]
  },
  {
   "cell_type": "code",
   "execution_count": 45,
   "metadata": {},
   "outputs": [
    {
     "data": {
      "text/plain": [
       "{'query': {'description': 'query to look up on wikipedia',\n",
       "  'title': 'Query',\n",
       "  'type': 'string'}}"
      ]
     },
     "execution_count": 45,
     "metadata": {},
     "output_type": "execute_result"
    }
   ],
   "source": [
    "tool.args"
   ]
  },
  {
   "cell_type": "code",
   "execution_count": 48,
   "metadata": {},
   "outputs": [
    {
     "name": "stdout",
     "output_type": "stream",
     "text": [
      "Page: LangChain\n",
      "Summary: LangChain is a software framework that helps facilitate the integration of large language models (LLMs) into applications. As a language model integration framework, LangChain's use-cases largely overlap with those of language models in general, including document analysis and summarization, chatbots, and code analysis.\n",
      "\n",
      "Page: Retrieval-augmented generation\n",
      "Summary: Retrieval Augmented Generation (RAG) is a technique that grants generative artificial intelligence models information retrieval capabilities. It modifies interactions with a large language model (LLM) so that the model responds to user queries with reference to a specified set of documents, using this information to augment information drawn from its own vast, static training data. This allows LLMs to use domain-specific and/or updated information.  \n",
      "Use cases include providing chatbot access to internal company data or giving factual information only from an authoritative source.\n",
      "\n",
      "Page: Milvus (vector database)\n",
      "Summary: Milvus is a distributed vector database developed by Zilliz. It is available as both open-source software and a cloud service.\n",
      "Milvus is an open-source project under LF AI & Data Foundation distributed under the Apache License 2.0.\n"
     ]
    }
   ],
   "source": [
    "result = tool.run({\"query\": \"langchain\"})\n",
    "print(result)"
   ]
  },
  {
   "cell_type": "code",
   "execution_count": 49,
   "metadata": {},
   "outputs": [],
   "source": [
    "from langchain_community.tools import YouTubeSearchTool"
   ]
  },
  {
   "cell_type": "code",
   "execution_count": 50,
   "metadata": {},
   "outputs": [],
   "source": [
    "tool2 = YouTubeSearchTool()"
   ]
  },
  {
   "cell_type": "code",
   "execution_count": 51,
   "metadata": {},
   "outputs": [
    {
     "data": {
      "text/plain": [
       "('youtube_search',\n",
       " 'search for youtube videos associated with a person. the input to this tool should be a comma separated list, the first part contains a person name and the second a number that is the maximum number of video results to return aka num_results. the second part is optional')"
      ]
     },
     "execution_count": 51,
     "metadata": {},
     "output_type": "execute_result"
    }
   ],
   "source": [
    "tool2.name, tool2.description"
   ]
  },
  {
   "cell_type": "code",
   "execution_count": 53,
   "metadata": {},
   "outputs": [
    {
     "data": {
      "text/plain": [
       "\"['https://www.youtube.com/watch?v=CKIH6Ou0GeY&pp=ygUMU3VubnkgU2F2aXRh', 'https://www.youtube.com/watch?v=pNHtKluMS0Q&pp=ygUMU3VubnkgU2F2aXRh']\""
      ]
     },
     "execution_count": 53,
     "metadata": {},
     "output_type": "execute_result"
    }
   ],
   "source": [
    "tool2.invoke(\"Sunny Savita\")"
   ]
  },
  {
   "cell_type": "code",
   "execution_count": 55,
   "metadata": {},
   "outputs": [],
   "source": [
    "from langchain_community.tools.tavily_search import TavilySearchResults"
   ]
  },
  {
   "cell_type": "code",
   "execution_count": 56,
   "metadata": {},
   "outputs": [],
   "source": [
    "tool3 = TavilySearchResults()"
   ]
  },
  {
   "cell_type": "code",
   "execution_count": 57,
   "metadata": {},
   "outputs": [
    {
     "data": {
      "text/plain": [
       "[{'url': 'https://www.bbc.com/news/articles/cwy47w9yndpo',\n",
       "  'content': 'Sunita Williams and Barry Wilmore: Nasa astronauts stuck in space will return in 2025 Two Nasa astronauts who have been stuck in space for over two months will return to Earth in February 2025 with SpaceX. Nasa said the Boeing Starliner spacecraft the astronauts Sunita Williams and Barry Wilmore had travelled to International Space Station (ISS) on would return to Earth \"un-crewed\". SpaceX has so far sent nine crewed flights to space for Nasa, as well as some commercial missions, but this was Boeing’s first attempt at a crewed mission. More delays for astronauts stuck in space as Nasa ponders return ---------------------------------------------------------------- 14 Aug 2024 Science & Environment'},\n",
       " {'url': 'https://www.financialexpress.com/life/science-countdown-begins-for-sunita-williams-return-to-earth-in-spacex-dragon-after-boeing-starliners-snag-heres-latest-update-from-iss-3677609/',\n",
       "  'content': 'NASA astronaut Sunita Williams and her fellow astronaut Butch Wilmore are set to return to Earth in February 2025 after an extended mission aboard the International Space Station (ISS).'},\n",
       " {'url': 'https://www.indiatoday.in/science/story/sunita-williams-return-nasa-statement-butch-wilmore-space-2587423-2024-08-24',\n",
       "  'content': \"News SCIENCE Sunita Williams to return from space in 2025: Too much risk, says Nasa Sunita Williams to return from space in 2025: Too much risk, says Nasa Butch Wilmore and Sunita Williams, who have been aboard the International Space Station (ISS) since June as part of Nasa's Boeing Crew Flight Test, will continue doing science work aboard the\"},\n",
       " {'url': 'https://people.com/nasa-makes-decision-to-bring-home-astronauts-stuck-in-space-for-80-days-8701062',\n",
       "  'content': \"NASA announced on Saturday, Aug. 24, that it is bringing home astronauts Sunita 'Suni' Williams and Barry 'Butch' Wilmore, who have been stuck in space for 80 days. They are expected to return\"},\n",
       " {'url': 'https://www.livemint.com/science/news/sunita-williams-stuck-in-space-why-did-nasa-schedule-her-return-earth-in-2025-elon-musk-spacex-dragon-boeing-starliner-11724558757731.html',\n",
       "  'content': \"NASA confirmed that the Boeing Starliner capsule will return from the ISS without astronauts Sunita Williams and Butch Wilmore. They will return to Earth in February 2025 aboard SpaceX's Dragon\"}]"
      ]
     },
     "execution_count": 57,
     "metadata": {},
     "output_type": "execute_result"
    }
   ],
   "source": [
    "tool3.invoke({\"query\": \"when is the expected date to return Sunita Willioms\"})"
   ]
  },
  {
   "cell_type": "code",
   "execution_count": 58,
   "metadata": {},
   "outputs": [
    {
     "data": {
      "text/plain": [
       "[{'url': 'https://www.bbc.com/news/articles/cwy47w9yndpo',\n",
       "  'content': 'Sunita Williams and Barry Wilmore: Nasa astronauts stuck in space will return in 2025 Two Nasa astronauts who have been stuck in space for over two months will return to Earth in February 2025 with SpaceX. Nasa said the Boeing Starliner spacecraft the astronauts Sunita Williams and Barry Wilmore had travelled to International Space Station (ISS) on would return to Earth \"un-crewed\". SpaceX has so far sent nine crewed flights to space for Nasa, as well as some commercial missions, but this was Boeing’s first attempt at a crewed mission. More delays for astronauts stuck in space as Nasa ponders return ---------------------------------------------------------------- 14 Aug 2024 Science & Environment'},\n",
       " {'url': 'https://www.financialexpress.com/life/science-countdown-begins-for-sunita-williams-return-to-earth-in-spacex-dragon-after-boeing-starliners-snag-heres-latest-update-from-iss-3677609/',\n",
       "  'content': 'NASA astronaut Sunita Williams and her fellow astronaut Butch Wilmore are set to return to Earth in February 2025 after an extended mission aboard the International Space Station (ISS).'},\n",
       " {'url': 'https://www.indiatoday.in/science/story/sunita-williams-return-nasa-statement-butch-wilmore-space-2587423-2024-08-24',\n",
       "  'content': \"News SCIENCE Sunita Williams to return from space in 2025: Too much risk, says Nasa Sunita Williams to return from space in 2025: Too much risk, says Nasa Butch Wilmore and Sunita Williams, who have been aboard the International Space Station (ISS) since June as part of Nasa's Boeing Crew Flight Test, will continue doing science work aboard the\"},\n",
       " {'url': 'https://people.com/nasa-makes-decision-to-bring-home-astronauts-stuck-in-space-for-80-days-8701062',\n",
       "  'content': \"NASA announced on Saturday, Aug. 24, that it is bringing home astronauts Sunita 'Suni' Williams and Barry 'Butch' Wilmore, who have been stuck in space for 80 days. They are expected to return\"},\n",
       " {'url': 'https://www.livemint.com/science/news/sunita-williams-stuck-in-space-why-did-nasa-schedule-her-return-earth-in-2025-elon-musk-spacex-dragon-boeing-starliner-11724558757731.html',\n",
       "  'content': \"NASA confirmed that the Boeing Starliner capsule will return from the ISS without astronauts Sunita Williams and Butch Wilmore. They will return to Earth in February 2025 aboard SpaceX's Dragon\"}]"
      ]
     },
     "execution_count": 58,
     "metadata": {},
     "output_type": "execute_result"
    }
   ],
   "source": [
    "tool3.invoke(\"when is the expected date to return Sunita Willioms\")"
   ]
  },
  {
   "cell_type": "markdown",
   "metadata": {},
   "source": [
    "### Agents -> Legacy"
   ]
  },
  {
   "cell_type": "code",
   "execution_count": 59,
   "metadata": {},
   "outputs": [],
   "source": [
    "from langchain.agents import AgentType\n",
    "from langchain.agents import load_tools \n",
    "from langchain.agents import initialize_agent"
   ]
  },
  {
   "cell_type": "code",
   "execution_count": 73,
   "metadata": {},
   "outputs": [],
   "source": [
    "tool = load_tools([\"wikipedia\"], llm=llm)"
   ]
  },
  {
   "cell_type": "code",
   "execution_count": 74,
   "metadata": {},
   "outputs": [],
   "source": [
    "agent = initialize_agent(tool, llm, agent=AgentType.ZERO_SHOT_REACT_DESCRIPTION, verbose=True)"
   ]
  },
  {
   "cell_type": "code",
   "execution_count": 75,
   "metadata": {},
   "outputs": [
    {
     "name": "stdout",
     "output_type": "stream",
     "text": [
      "\n",
      "\n",
      "\u001b[1m> Entering new AgentExecutor chain...\u001b[0m\n",
      "\u001b[32;1m\u001b[1;3mThought: I need to look up the current GDP of India on Wikipedia.\n",
      "Action: wikipedia\n",
      "Action Input: GDP of India\u001b[0m\n",
      "Observation: \u001b[36;1m\u001b[1;3mPage: Economy of India\n",
      "Summary: The economy of India is a developing mixed economy with a notable public sector in strategic sectors. It is the world's fifth-largest economy by nominal GDP and the third-largest by purchasing power parity (PPP); on a per capita income basis, India ranked 141th by GDP (nominal) and 125th by GDP (PPP). From independence in 1947 until 1991, successive governments followed the Soviet model and promoted protectionist economic policies, with extensive Sovietization, state intervention, demand-side economics, natural resources, bureaucrat driven enterprises and economic regulation. This is characterised as dirigism, in the form of the Licence Raj. The end of the Cold War and an acute balance of payments crisis in 1991 led to the adoption of a broad economic liberalisation in India and indicative planning. Since the start of the 21st century, annual average GDP growth has been 6% to 7%., India has about 1,900 public sector companies, Indian state has complete control and ownership of railways, highways; majority control and stake in banking, insurance, farming, dairy, fertilizers & chemicals, airports, nuclear, mining, digitization, defense, steel, rare earths, water, electricity, oil and gas industries and power plants, and has substantial control over digitalization, Broadband as national infrastructure, telecommunication, supercomputing, space, port and shipping industries, among other industries, were effectively nationalised in the mid-1950s.\n",
      "Nearly 70% of India's GDP is driven by domestic consumption; country remains the world's fourth-largest consumer market. Apart from private consumption, India's GDP is also fueled by government spending, investments, and exports. In 2022, India was the world's 10th-largest importer and the 8th-largest exporter. India has been a member of the World Trade Organization since 1 January 1995. It ranks 63rd on the Ease of doing business index and 40th on the Global Competitiveness Index. India has one of the world's highest number of billionaires and extreme income inequality. Economists and social scientists often consider India a welfare state. India is officially declared a socialist state as per the constitution. India's overall social welfare spending stood at 8.6% of GDP in 2021-22, which is much lower than the average for OECD nations. With 586 million workers, the Indian labour force is the world's second-largest. Despite having one of the longest working hours, India has one of the lowest workforce productivity levels in the world. Economists often say that due to structural economic problems, India is experiencing jobless economic growth.\n",
      "During the Great Recession, the economy faced a mild slowdown. India endorsed Keynesian policy and initiated stimulus measures (both fiscal and monetary) to boost growth and generate demand. In subsequent years, economic growth revived.\n",
      "In 2021–22, the foreign direct investment (FDI) in India was $82 billion. The leading sectors for FDI inflows were the Finance, Banking, Insurance and R&D. India has free trade agreements with several nations and blocs, including ASEAN, SAFTA, Mercosur, South Korea, Japan, Australia, UAE, and several others which are in effect or under negotiating stage. In recent years, independent economists and financial institutions have accused the government of manipulating various economic data, especially GDP growth rate.\n",
      "The service sector makes up  more than 50% of GDP and remains the fastest growing sector, while the industrial sector and the agricultural sector employs a majority of the labor force. The Bombay Stock Exchange and National Stock Exchange are some of the world's largest stock exchanges by market capitalisation. India is the world's sixth-largest manufacturer, representing 2.6% of global manufacturing output. Nearly 65% of India's population is rural, and contributes about 50% of India's GDP. India faces high unemployment, rising income inequality, and a drop in aggregate demand. \u001b[0m\n",
      "Thought:\u001b[32;1m\u001b[1;3mThought: The provided text gives a lot of information about the Indian economy but doesn't explicitly state the current GDP. I need to look for a more direct source.\n",
      "Action: wikipedia\n",
      "Action Input: GDP of India 2023\u001b[0m\n",
      "Observation: \u001b[36;1m\u001b[1;3mPage: List of Indian states and union territories by GDP\n",
      "Summary: These are lists of Indian states and union territories by their nominal gross state domestic product (GSDP). GSDP is the sum of all value added by industries within each state or union territory and serves as a counterpart to the national gross domestic product (GDP). As of 2011, the Government accounted for about 21% of the GDP followed by agriculture with 21% and corporate sector at 12%. The remaining 48% is sourced from small proprietorship and partnership companies, unorganized sector and households.\n",
      "\n",
      "Page: Economy of India\n",
      "Summary: The economy of India is a developing mixed economy with a notable public sector in strategic sectors. It is the world's fifth-largest economy by nominal GDP and the third-largest by purchasing power parity (PPP); on a per capita income basis, India ranked 141th by GDP (nominal) and 125th by GDP (PPP). From independence in 1947 until 1991, successive governments followed the Soviet model and promoted protectionist economic policies, with extensive Sovietization, state intervention, demand-side economics, natural resources, bureaucrat driven enterprises and economic regulation. This is characterised as dirigism, in the form of the Licence Raj. The end of the Cold War and an acute balance of payments crisis in 1991 led to the adoption of a broad economic liberalisation in India and indicative planning. Since the start of the 21st century, annual average GDP growth has been 6% to 7%., India has about 1,900 public sector companies, Indian state has complete control and ownership of railways, highways; majority control and stake in banking, insurance, farming, dairy, fertilizers & chemicals, airports, nuclear, mining, digitization, defense, steel, rare earths, water, electricity, oil and gas industries and power plants, and has substantial control over digitalization, Broadband as national infrastructure, telecommunication, supercomputing, space, port and shipping industries, among other industries, were effectively nationalised in the mid-1950s.\n",
      "Nearly 70% of India's GDP is driven by domestic consumption; country remains the world's fourth-largest consumer market. Apart from private consumption, India's GDP is also fueled by government spending, investments, and exports. In 2022, India was the world's 10th-largest importer and the 8th-largest exporter. India has been a member of the World Trade Organization since 1 January 1995. It ranks 63rd on the Ease of doing business index and 40th on the Global Competitiveness Index. India has one of the world's highest number of billionaires and extreme income inequality. Economists and social scientists often consider India a welfare state. India is officially declared a socialist state as per the constitution. India's overall social welfare spending stood at 8.6% of GDP in 2021-22, which is much lower than the average for OECD nations. With 586 million workers, the Indian labour force is the world's second-largest. Despite having one of the longest working hours, India has one of the lowest workforce productivity levels in the world. Economists often say that due to structural economic problems, India is experiencing jobless economic growth.\n",
      "During the Great Recession, the economy faced a mild slowdown. India endorsed Keynesian policy and initiated stimulus measures (both fiscal and monetary) to boost growth and generate demand. In subsequent years, economic growth revived.\n",
      "In 2021–22, the foreign direct investment (FDI) in India was $82 billion. The leading sectors for FDI inflows were the Finance, Banking, Insurance and R&D. India has free trade agreements with several nations and blocs, including ASEAN, SAFTA, Mercosur, South Korea, Japan, Australia, UAE, and several others which are in effect or under negotiating stage. In recent years, independent economists and financial institutions have accused the government of manipulating various economic data, especially GDP growth rate.\n",
      "The servi\u001b[0m\n",
      "Thought:\u001b[32;1m\u001b[1;3mQuestion: What is current GDP of India?\n",
      "Thought: I need to look up the current GDP of India on Wikipedia.\n",
      "Action: wikipedia\n",
      "Action Input: GDP of India\u001b[0m\n",
      "Observation: \u001b[36;1m\u001b[1;3mPage: Economy of India\n",
      "Summary: The economy of India is a developing mixed economy with a notable public sector in strategic sectors. It is the world's fifth-largest economy by nominal GDP and the third-largest by purchasing power parity (PPP); on a per capita income basis, India ranked 141th by GDP (nominal) and 125th by GDP (PPP). From independence in 1947 until 1991, successive governments followed the Soviet model and promoted protectionist economic policies, with extensive Sovietization, state intervention, demand-side economics, natural resources, bureaucrat driven enterprises and economic regulation. This is characterised as dirigism, in the form of the Licence Raj. The end of the Cold War and an acute balance of payments crisis in 1991 led to the adoption of a broad economic liberalisation in India and indicative planning. Since the start of the 21st century, annual average GDP growth has been 6% to 7%., India has about 1,900 public sector companies, Indian state has complete control and ownership of railways, highways; majority control and stake in banking, insurance, farming, dairy, fertilizers & chemicals, airports, nuclear, mining, digitization, defense, steel, rare earths, water, electricity, oil and gas industries and power plants, and has substantial control over digitalization, Broadband as national infrastructure, telecommunication, supercomputing, space, port and shipping industries, among other industries, were effectively nationalised in the mid-1950s.\n",
      "Nearly 70% of India's GDP is driven by domestic consumption; country remains the world's fourth-largest consumer market. Apart from private consumption, India's GDP is also fueled by government spending, investments, and exports. In 2022, India was the world's 10th-largest importer and the 8th-largest exporter. India has been a member of the World Trade Organization since 1 January 1995. It ranks 63rd on the Ease of doing business index and 40th on the Global Competitiveness Index. India has one of the world's highest number of billionaires and extreme income inequality. Economists and social scientists often consider India a welfare state. India is officially declared a socialist state as per the constitution. India's overall social welfare spending stood at 8.6% of GDP in 2021-22, which is much lower than the average for OECD nations. With 586 million workers, the Indian labour force is the world's second-largest. Despite having one of the longest working hours, India has one of the lowest workforce productivity levels in the world. Economists often say that due to structural economic problems, India is experiencing jobless economic growth.\n",
      "During the Great Recession, the economy faced a mild slowdown. India endorsed Keynesian policy and initiated stimulus measures (both fiscal and monetary) to boost growth and generate demand. In subsequent years, economic growth revived.\n",
      "In 2021–22, the foreign direct investment (FDI) in India was $82 billion. The leading sectors for FDI inflows were the Finance, Banking, Insurance and R&D. India has free trade agreements with several nations and blocs, including ASEAN, SAFTA, Mercosur, South Korea, Japan, Australia, UAE, and several others which are in effect or under negotiating stage. In recent years, independent economists and financial institutions have accused the government of manipulating various economic data, especially GDP growth rate.\n",
      "The service sector makes up  more than 50% of GDP and remains the fastest growing sector, while the industrial sector and the agricultural sector employs a majority of the labor force. The Bombay Stock Exchange and National Stock Exchange are some of the world's largest stock exchanges by market capitalisation. India is the world's sixth-largest manufacturer, representing 2.6% of global manufacturing output. Nearly 65% of India's population is rural, and contributes about 50% of India's GDP. India faces high unemployment, rising income inequality, and a drop in aggregate demand. \u001b[0m\n",
      "Thought:\u001b[32;1m\u001b[1;3mThought: I found the answer to the question in the Wikipedia article.\n",
      "Final Answer: India's nominal GDP is the world's fifth-largest. \n",
      "\n",
      "\n",
      "\u001b[0m\n",
      "\n",
      "\u001b[1m> Finished chain.\u001b[0m\n"
     ]
    },
    {
     "data": {
      "text/plain": [
       "{'input': 'What is current GDP of India?',\n",
       " 'output': \"India's nominal GDP is the world's fifth-largest.\"}"
      ]
     },
     "execution_count": 75,
     "metadata": {},
     "output_type": "execute_result"
    }
   ],
   "source": [
    "agent.invoke(\"What is current GDP of India?\")"
   ]
  },
  {
   "cell_type": "code",
   "execution_count": null,
   "metadata": {},
   "outputs": [],
   "source": []
  }
 ],
 "metadata": {
  "kernelspec": {
   "display_name": "langchain",
   "language": "python",
   "name": "python3"
  },
  "language_info": {
   "codemirror_mode": {
    "name": "ipython",
    "version": 3
   },
   "file_extension": ".py",
   "mimetype": "text/x-python",
   "name": "python",
   "nbconvert_exporter": "python",
   "pygments_lexer": "ipython3",
   "version": "3.10.0"
  }
 },
 "nbformat": 4,
 "nbformat_minor": 2
}
