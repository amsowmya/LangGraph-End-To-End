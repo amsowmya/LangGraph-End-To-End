{
 "cells": [
  {
   "cell_type": "markdown",
   "metadata": {},
   "source": [
    "This is the simple workflow with graph"
   ]
  },
  {
   "cell_type": "code",
   "execution_count": 1,
   "metadata": {},
   "outputs": [],
   "source": [
    "def function1(input1):\n",
    "    return input1 + \"from first function\"\n",
    "\n",
    "def function2(input2):\n",
    "    return input2 + \" and am from second function\""
   ]
  },
  {
   "cell_type": "code",
   "execution_count": 2,
   "metadata": {},
   "outputs": [],
   "source": [
    "from langgraph.graph import Graph"
   ]
  },
  {
   "cell_type": "code",
   "execution_count": 3,
   "metadata": {},
   "outputs": [],
   "source": [
    "workflow1 = Graph()"
   ]
  },
  {
   "cell_type": "code",
   "execution_count": 4,
   "metadata": {},
   "outputs": [
    {
     "data": {
      "text/plain": [
       "<langgraph.graph.graph.Graph at 0x20d7337fc70>"
      ]
     },
     "execution_count": 4,
     "metadata": {},
     "output_type": "execute_result"
    }
   ],
   "source": [
    "workflow1.add_node(\"function1\", function1)\n",
    "workflow1.add_node(\"function2\", function2)"
   ]
  },
  {
   "cell_type": "code",
   "execution_count": 5,
   "metadata": {},
   "outputs": [
    {
     "data": {
      "text/plain": [
       "<langgraph.graph.graph.Graph at 0x20d7337fc70>"
      ]
     },
     "execution_count": 5,
     "metadata": {},
     "output_type": "execute_result"
    }
   ],
   "source": [
    "workflow1.add_edge(\"function1\", \"function2\")"
   ]
  },
  {
   "cell_type": "code",
   "execution_count": 6,
   "metadata": {},
   "outputs": [
    {
     "data": {
      "text/plain": [
       "<langgraph.graph.graph.Graph at 0x20d7337fc70>"
      ]
     },
     "execution_count": 6,
     "metadata": {},
     "output_type": "execute_result"
    }
   ],
   "source": [
    "workflow1.set_entry_point(\"function1\")"
   ]
  },
  {
   "cell_type": "code",
   "execution_count": 7,
   "metadata": {},
   "outputs": [
    {
     "data": {
      "text/plain": [
       "<langgraph.graph.graph.Graph at 0x20d7337fc70>"
      ]
     },
     "execution_count": 7,
     "metadata": {},
     "output_type": "execute_result"
    }
   ],
   "source": [
    "workflow1.set_finish_point(\"function2\")"
   ]
  },
  {
   "cell_type": "code",
   "execution_count": 8,
   "metadata": {},
   "outputs": [],
   "source": [
    "app1 = workflow1.compile()"
   ]
  },
  {
   "cell_type": "code",
   "execution_count": 9,
   "metadata": {},
   "outputs": [
    {
     "data": {
      "image/png": "[encoded data removed]",
      "text/plain": [
       "<IPython.core.display.Image object>"
      ]
     },
     "metadata": {},
     "output_type": "display_data"
    }
   ],
   "source": [
    "from IPython.display import Image, display\n",
    "\n",
    "try:\n",
    "    display(Image(app1.get_graph().draw_mermaid_png()))\n",
    "except Exception as e:\n",
    "    print(e)"
   ]
  },
  {
   "cell_type": "code",
   "execution_count": 11,
   "metadata": {},
   "outputs": [
    {
     "data": {
      "text/plain": [
       "'Hi this is sowmya from first function and am from second function'"
      ]
     },
     "execution_count": 11,
     "metadata": {},
     "output_type": "execute_result"
    }
   ],
   "source": [
    "app1.invoke(\"Hi this is sowmya \")"
   ]
  },
  {
   "cell_type": "code",
   "execution_count": 13,
   "metadata": {},
   "outputs": [
    {
     "name": "stdout",
     "output_type": "stream",
     "text": [
      "here is output from function1\n",
      "---\n",
      "Hi this is sowmya from first function\n",
      "\n",
      "\n",
      "here is output from function2\n",
      "---\n",
      "Hi this is sowmya from first function and am from second function\n",
      "\n",
      "\n"
     ]
    }
   ],
   "source": [
    "input = \"Hi this is sowmya \"\n",
    "\n",
    "for output in app1.stream(input):\n",
    "    for key, value in output.items():\n",
    "        print(f\"here is output from {key}\")\n",
    "        print(\"---\")\n",
    "        print(value)\n",
    "        print(\"\\n\")"
   ]
  },
  {
   "cell_type": "code",
   "execution_count": null,
   "metadata": {},
   "outputs": [],
   "source": []
  },
  {
   "cell_type": "markdown",
   "metadata": {},
   "source": [
    "---------------------------------------"
   ]
  },
  {
   "cell_type": "code",
   "execution_count": 26,
   "metadata": {},
   "outputs": [],
   "source": [
    "def function3(input3):\n",
    "    return input3"
   ]
  },
  {
   "cell_type": "code",
   "execution_count": 27,
   "metadata": {},
   "outputs": [],
   "source": [
    "def function1(input1):\n",
    "    return input1 + \"from first function\"\n",
    "\n",
    "def function2(input2):\n",
    "    output = function3(\"this is function3 inbetween\")\n",
    "    return input2 + \" \" + output + \" and am from second function\""
   ]
  },
  {
   "cell_type": "code",
   "execution_count": 28,
   "metadata": {},
   "outputs": [],
   "source": [
    "workflow2 = Graph()"
   ]
  },
  {
   "cell_type": "code",
   "execution_count": 29,
   "metadata": {},
   "outputs": [
    {
     "data": {
      "text/plain": [
       "<langgraph.graph.graph.Graph at 0x20d73da2680>"
      ]
     },
     "execution_count": 29,
     "metadata": {},
     "output_type": "execute_result"
    }
   ],
   "source": [
    "workflow2.add_node(\"function1\", function1)\n",
    "workflow2.add_node(\"function2\", function2)"
   ]
  },
  {
   "cell_type": "code",
   "execution_count": 30,
   "metadata": {},
   "outputs": [
    {
     "data": {
      "text/plain": [
       "<langgraph.graph.graph.Graph at 0x20d73da2680>"
      ]
     },
     "execution_count": 30,
     "metadata": {},
     "output_type": "execute_result"
    }
   ],
   "source": [
    "workflow2.add_edge(\"function1\", \"function2\")"
   ]
  },
  {
   "cell_type": "code",
   "execution_count": 31,
   "metadata": {},
   "outputs": [
    {
     "data": {
      "text/plain": [
       "<langgraph.graph.graph.Graph at 0x20d73da2680>"
      ]
     },
     "execution_count": 31,
     "metadata": {},
     "output_type": "execute_result"
    }
   ],
   "source": [
    "workflow2.set_entry_point(\"function1\")"
   ]
  },
  {
   "cell_type": "code",
   "execution_count": 32,
   "metadata": {},
   "outputs": [],
   "source": [
    "app2 = workflow2.compile()"
   ]
  },
  {
   "cell_type": "code",
   "execution_count": 33,
   "metadata": {},
   "outputs": [
    {
     "name": "stdout",
     "output_type": "stream",
     "text": [
      "here is output fromfunction1\n",
      "----\n",
      "hi this is sowmya from first function\n",
      "\n",
      "\n",
      "here is output fromfunction2\n",
      "----\n",
      "hi this is sowmya from first function this is function3 inbetween and am from second function\n",
      "\n",
      "\n"
     ]
    }
   ],
   "source": [
    "input = \"hi this is sowmya \"\n",
    "\n",
    "for output in app2.stream(input):\n",
    "    for key, value in output.items():\n",
    "        print(f\"here is output from{key}\")\n",
    "        print(\"----\")\n",
    "        print(value)\n",
    "        print(\"\\n\")"
   ]
  },
  {
   "cell_type": "markdown",
   "metadata": {},
   "source": [
    "-------"
   ]
  },
  {
   "cell_type": "markdown",
   "metadata": {},
   "source": [
    "Now lets create workflow with llm"
   ]
  },
  {
   "cell_type": "code",
   "execution_count": 35,
   "metadata": {},
   "outputs": [],
   "source": [
    "from langchain_huggingface.embeddings import HuggingFaceEmbeddings\n",
    "embeddings = HuggingFaceEmbeddings(model_name=\"sentence-transformers/all-MiniLM-L6-v2\")\n",
    "\n",
    "from langchain_groq import ChatGroq\n",
    "llm = ChatGroq(model=\"gemma2-9b-it\")"
   ]
  },
  {
   "cell_type": "code",
   "execution_count": 36,
   "metadata": {},
   "outputs": [],
   "source": [
    "def function1(input):\n",
    "    llm = ChatGroq(model=\"gemma2-9b-it\")\n",
    "    response = llm.invoke(input).content\n",
    "    return response"
   ]
  },
  {
   "cell_type": "code",
   "execution_count": 37,
   "metadata": {},
   "outputs": [],
   "source": [
    "def function2(input):\n",
    "    return input.upper()"
   ]
  },
  {
   "cell_type": "code",
   "execution_count": 43,
   "metadata": {},
   "outputs": [],
   "source": [
    "from langgraph.graph import Graph\n",
    "\n",
    "workflow2 = Graph()"
   ]
  },
  {
   "cell_type": "code",
   "execution_count": 44,
   "metadata": {},
   "outputs": [
    {
     "data": {
      "text/plain": [
       "<langgraph.graph.graph.Graph at 0x20d3ff4b100>"
      ]
     },
     "execution_count": 44,
     "metadata": {},
     "output_type": "execute_result"
    }
   ],
   "source": [
    "workflow2.add_node(\"llm\", function1)\n",
    "workflow2.add_node(\"upper_string\", function2)"
   ]
  },
  {
   "cell_type": "code",
   "execution_count": 45,
   "metadata": {},
   "outputs": [
    {
     "data": {
      "text/plain": [
       "<langgraph.graph.graph.Graph at 0x20d3ff4b100>"
      ]
     },
     "execution_count": 45,
     "metadata": {},
     "output_type": "execute_result"
    }
   ],
   "source": [
    "workflow2.add_edge(\"llm\", \"upper_string\")"
   ]
  },
  {
   "cell_type": "code",
   "execution_count": 46,
   "metadata": {},
   "outputs": [
    {
     "data": {
      "text/plain": [
       "<langgraph.graph.graph.Graph at 0x20d3ff4b100>"
      ]
     },
     "execution_count": 46,
     "metadata": {},
     "output_type": "execute_result"
    }
   ],
   "source": [
    "workflow2.set_entry_point(\"llm\")\n",
    "workflow2.set_finish_point(\"upper_string\")"
   ]
  },
  {
   "cell_type": "code",
   "execution_count": 47,
   "metadata": {},
   "outputs": [],
   "source": [
    "app2 = workflow2.compile()"
   ]
  },
  {
   "cell_type": "code",
   "execution_count": 48,
   "metadata": {},
   "outputs": [
    {
     "data": {
      "image/png": "[encoded data removed]",
      "text/plain": [
       "<IPython.core.display.Image object>"
      ]
     },
     "metadata": {},
     "output_type": "display_data"
    }
   ],
   "source": [
    "from IPython.display import Image, display\n",
    "\n",
    "try:\n",
    "    display(Image(app2.get_graph().draw_mermaid_png()))\n",
    "except Exception as e:\n",
    "    print(e)"
   ]
  },
  {
   "cell_type": "code",
   "execution_count": 49,
   "metadata": {},
   "outputs": [
    {
     "data": {
      "text/plain": [
       "'THE \"INDIAN IRON MAN\" IS A NICKNAME FOR **DR. APJ ABDUL KALAM**. \\n\\nHE WAS A RENOWNED AEROSPACE SCIENTIST AND THE 11TH PRESIDENT OF INDIA. \\n\\nHE EARNED THIS NICKNAME DUE TO HIS SIGNIFICANT CONTRIBUTIONS TO INDIA\\'S MISSILE AND SPACE PROGRAMS, OFTEN BEING REFERRED TO AS THE \"MISSILE MAN OF INDIA\".\\n'"
      ]
     },
     "execution_count": 49,
     "metadata": {},
     "output_type": "execute_result"
    }
   ],
   "source": [
    "app2.invoke(\"who is the indian iron man?\")"
   ]
  },
  {
   "cell_type": "code",
   "execution_count": 50,
   "metadata": {},
   "outputs": [
    {
     "name": "stdout",
     "output_type": "stream",
     "text": [
      "LET'S BREAK DOWN GENAI, OR GENERATIVE ARTIFICIAL INTELLIGENCE:\n",
      "\n",
      "**WHAT IS IT?**\n",
      "\n",
      "GENAI IS A TYPE OF ARTIFICIAL INTELLIGENCE THAT FOCUSES ON CREATING NEW CONTENT.  THINK OF IT AS A COMPUTER PROGRAM THAT CAN LEARN PATTERNS AND STRUCTURES WITHIN EXISTING DATA AND THEN USE THAT KNOWLEDGE TO GENERATE SOMETHING ORIGINAL. THIS \"SOMETHING\" CAN TAKE MANY FORMS:\n",
      "\n",
      "* **TEXT:**  WRITING STORIES, POEMS, ARTICLES, DIALOGUE, CODE, AND EVEN ENTIRE BOOKS.\n",
      "* **IMAGES:**  CREATING PAINTINGS, PHOTOGRAPHS, ILLUSTRATIONS, LOGOS, AND OTHER VISUAL CONTENT.\n",
      "* **AUDIO:**  COMPOSING MUSIC, GENERATING SOUND EFFECTS, AND EVEN MIMICKING VOICES.\n",
      "* **VIDEO:**  GENERATING SHORT CLIPS, ANIMATIONS, AND EVEN ENTIRE FILMS (THOUGH THIS IS STILL A DEVELOPING AREA).\n",
      "* **3D MODELS:**  DESIGNING OBJECTS AND ENVIRONMENTS FOR GAMING, ARCHITECTURE, OR PRODUCT DESIGN.\n",
      "\n",
      "**HOW DOES IT WORK?**\n",
      "\n",
      "AT ITS CORE, GENAI RELIES ON POWERFUL MACHINE LEARNING ALGORITHMS, PARTICULARLY A TYPE CALLED **DEEP LEARNING**. THESE ALGORITHMS ARE TRAINED ON MASSIVE DATASETS OF EXISTING CONTENT.  \n",
      "\n",
      "HERE'S A SIMPLIFIED EXPLANATION:\n",
      "\n",
      "1. **DATA INGESTION:**  GENAI MODELS ARE \"FED\" HUGE AMOUNTS OF DATA – TEXT, IMAGES, AUDIO, ETC.\n",
      "\n",
      "2. **PATTERN RECOGNITION:** THE ALGORITHMS ANALYZE THIS DATA, IDENTIFYING RECURRING PATTERNS, RELATIONSHIPS, AND STRUCTURES.\n",
      "\n",
      "3. **REPRESENTATION LEARNING:** THE MODEL LEARNS TO REPRESENT THIS DATA IN A WAY THAT CAPTURES ITS ESSENTIAL CHARACTERISTICS.\n",
      "\n",
      "4. **GENERATION:** WHEN GIVEN A PROMPT OR STARTING POINT, THE MODEL USES ITS LEARNED KNOWLEDGE TO GENERATE NEW CONTENT THAT FOLLOWS THE PATTERNS AND STRUCTURES IT HAS IDENTIFIED.\n",
      "\n",
      "**KEY GENAI TECHNIQUES:**\n",
      "\n",
      "* **GENERATIVE ADVERSARIAL NETWORKS (GANS):**  TWO NEURAL NETWORKS WORK AGAINST EACH OTHER. ONE GENERATES CONTENT, AND THE OTHER TRIES TO DISTINGUISH IT FROM REAL DATA. THIS COMPETITION DRIVES THE GENERATOR TO PRODUCE INCREASINGLY REALISTIC OUTPUTS.\n",
      "* **TRANSFORMER NETWORKS:**  EXCELLENT AT UNDERSTANDING AND GENERATING SEQUENTIAL DATA LIKE TEXT. MODELS LIKE GPT-3 AND LAMDA ARE BASED ON TRANSFORMERS.\n",
      "* **DIFFUSION MODELS:**  START WITH RANDOM NOISE AND GRADUALLY REFINE IT INTO COHERENT CONTENT.\n",
      "\n",
      "**EXAMPLES OF GENAI IN ACTION:**\n",
      "\n",
      "* **CHATGPT:** A CONVERSATIONAL AI THAT CAN GENERATE HUMAN-LIKE TEXT.\n",
      "* **DALL-E 2:** CREATES IMAGES FROM TEXT DESCRIPTIONS.\n",
      "* **JUKEBOX:**  GENERATES MUSIC IN DIFFERENT STYLES.\n",
      "* **STABLE DIFFUSION:**  AN OPEN-SOURCE IMAGE GENERATION MODEL.\n",
      "\n",
      "**THE IMPACT OF GENAI:**\n",
      "\n",
      "GENAI HAS THE POTENTIAL TO REVOLUTIONIZE MANY INDUSTRIES:\n",
      "\n",
      "* **CREATIVE INDUSTRIES:**  ASSISTING WRITERS, ARTISTS, MUSICIANS, AND DESIGNERS.\n",
      "* **MARKETING AND ADVERTISING:**  CREATING PERSONALIZED CONTENT AND EXPERIENCES.\n",
      "* **EDUCATION:**  GENERATING INTERACTIVE LEARNING MATERIALS AND PROVIDING PERSONALIZED TUTORING.\n",
      "* **RESEARCH:**  ACCELERATING SCIENTIFIC DISCOVERY BY ANALYZING LARGE DATASETS AND GENERATING HYPOTHESES.\n",
      "\n",
      "**ETHICAL CONSIDERATIONS:**\n",
      "\n",
      "THE RISE OF GENAI ALSO RAISES IMPORTANT ETHICAL CONCERNS:\n",
      "\n",
      "* **BIAS AND FAIRNESS:**  MODELS CAN INHERIT BIASES FROM THE DATA THEY ARE TRAINED ON, LEADING TO UNFAIR OR DISCRIMINATORY OUTPUTS.\n",
      "* **MISINFORMATION AND DEEPFAKES:**  THE ABILITY TO GENERATE REALISTIC CONTENT CAN BE MISUSED TO CREATE CONVINCING FAKE NEWS, PROPAGANDA, OR MANIPULATED MEDIA.\n",
      "* **COPYRIGHT AND INTELLECTUAL PROPERTY:**  QUESTIONS ARISE ABOUT WHO OWNS THE COPYRIGHT TO CONTENT GENERATED BY AI.\n",
      "* **JOB DISPLACEMENT:**  AUTOMATION POWERED BY GENAI COULD LEAD TO JOB LOSSES IN CERTAIN SECTORS.\n",
      "\n",
      "\n",
      "IT'S CRUCIAL TO DEVELOP AND USE GENAI RESPONSIBLY, ADDRESSING THESE ETHICAL CHALLENGES WHILE HARNESSING ITS IMMENSE POTENTIAL FOR GOOD.\n",
      "\n"
     ]
    }
   ],
   "source": [
    "print(app2.invoke(\"what is genai explain in detail?\"))"
   ]
  },
  {
   "cell_type": "code",
   "execution_count": 53,
   "metadata": {},
   "outputs": [
    {
     "name": "stdout",
     "output_type": "stream",
     "text": [
      "here is output from `llm`\n",
      "----\n",
      "The first Prime Minister of India was **Jawaharlal Nehru**. \n",
      "\n",
      "\n",
      "\n",
      "here is output from `upper_string`\n",
      "----\n",
      "THE FIRST PRIME MINISTER OF INDIA WAS **JAWAHARLAL NEHRU**. \n",
      "\n",
      "\n",
      "\n"
     ]
    }
   ],
   "source": [
    "input = \"who is the first prime minister in india?\"\n",
    "\n",
    "for output in app2.stream(input):\n",
    "    for key, value in output.items():\n",
    "        print(f\"here is output from `{key}`\")\n",
    "        print(\"----\")\n",
    "        print(value)\n",
    "        print(\"\\n\")"
   ]
  },
  {
   "cell_type": "markdown",
   "metadata": {},
   "source": [
    "----------"
   ]
  },
  {
   "cell_type": "markdown",
   "metadata": {},
   "source": [
    "Here lets create our own output token counter"
   ]
  },
  {
   "cell_type": "code",
   "execution_count": 54,
   "metadata": {},
   "outputs": [],
   "source": [
    "def function3(input):\n",
    "    token = input.split()\n",
    "    token_number = len(token)\n",
    "    token_number = f\"total token number is {token_number}\"\n",
    "    return token_number"
   ]
  },
  {
   "cell_type": "code",
   "execution_count": 55,
   "metadata": {},
   "outputs": [],
   "source": [
    "workflow3 = Graph()\n",
    "\n",
    "workflow3.add_node(\"llm\", function1)\n",
    "workflow3.add_node(\"token_counter\", function3)\n",
    "\n",
    "workflow3.add_edge(\"llm\", \"token_counter\")\n",
    "\n",
    "workflow3.set_entry_point(\"llm\")\n",
    "workflow3.set_finish_point(\"token_counter\")\n",
    "\n",
    "app3 = workflow3.compile()"
   ]
  },
  {
   "cell_type": "code",
   "execution_count": 56,
   "metadata": {},
   "outputs": [
    {
     "data": {
      "image/png": "[encoded data removed]",
      "text/plain": [
       "<IPython.core.display.Image object>"
      ]
     },
     "metadata": {},
     "output_type": "display_data"
    }
   ],
   "source": [
    "from IPython.display import Image, display\n",
    "\n",
    "try:\n",
    "    display(Image(app2.get_graph().draw_mermaid_png()))\n",
    "except Exception as e:\n",
    "    print(e)"
   ]
  },
  {
   "cell_type": "code",
   "execution_count": 57,
   "metadata": {},
   "outputs": [
    {
     "data": {
      "text/plain": [
       "'total token number is 9'"
      ]
     },
     "execution_count": 57,
     "metadata": {},
     "output_type": "execute_result"
    }
   ],
   "source": [
    "app3.invoke(\"who is the first prime minister in india?\")"
   ]
  },
  {
   "cell_type": "code",
   "execution_count": 58,
   "metadata": {},
   "outputs": [
    {
     "data": {
      "text/plain": [
       "'total token number is 440'"
      ]
     },
     "execution_count": 58,
     "metadata": {},
     "output_type": "execute_result"
    }
   ],
   "source": [
    "app3.invoke(\"what is genai explain in detail?\")"
   ]
  },
  {
   "cell_type": "code",
   "execution_count": null,
   "metadata": {},
   "outputs": [],
   "source": []
  }
 ],
 "metadata": {
  "kernelspec": {
   "display_name": "langchain",
   "language": "python",
   "name": "python3"
  },
  "language_info": {
   "codemirror_mode": {
    "name": "ipython",
    "version": 3
   },
   "file_extension": ".py",
   "mimetype": "text/x-python",
   "name": "python",
   "nbconvert_exporter": "python",
   "pygments_lexer": "ipython3",
   "version": "3.10.0"
  }
 },
 "nbformat": 4,
 "nbformat_minor": 2
}
