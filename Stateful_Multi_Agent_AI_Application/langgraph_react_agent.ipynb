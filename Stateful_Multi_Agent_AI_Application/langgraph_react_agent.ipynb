{
 "cells": [
  {
   "cell_type": "markdown",
   "metadata": {},
   "source": [
    "# LangGraph ReAct Agent"
   ]
  },
  {
   "cell_type": "code",
   "execution_count": 17,
   "metadata": {},
   "outputs": [],
   "source": [
    "from typing import List\n",
    "from typing_extensions import TypedDict\n",
    "from dotenv import load_dotenv\n",
    "from langchain_openai import ChatOpenAI\n",
    "from langchain_openai import OpenAIEmbeddings\n",
    "import os \n",
    "import uuid"
   ]
  },
  {
   "cell_type": "code",
   "execution_count": 5,
   "metadata": {},
   "outputs": [
    {
     "data": {
      "text/plain": [
       "True"
      ]
     },
     "execution_count": 5,
     "metadata": {},
     "output_type": "execute_result"
    }
   ],
   "source": [
    "load_dotenv()"
   ]
  },
  {
   "cell_type": "code",
   "execution_count": 9,
   "metadata": {},
   "outputs": [],
   "source": [
    "AZURE_OPENAI_API_KEY = os.getenv('AZURE_OPENAI_API_KEY')\n",
    "os.environ[\"AZURE_OPENAI_ENDPOINT\"] = os.getenv('AZURE_OPENAI_ENDPOINT')\n",
    "os.environ[\"AZURE_OPENAI_API_VERSION\"] = \"2023-06-01-preview\"\n",
    "\n",
    "from langchain_openai import  AzureChatOpenAI\n",
    "\n",
    "llm = AzureChatOpenAI(\n",
    "    openai_api_version=\"2023-06-01-preview\",\n",
    "    azure_deployment=os.getenv('AZURE_OPENAI_DEPLOYMENT'),\n",
    "    azure_endpoint=os.getenv('AZURE_OPENAI_ENDPOINT'),\n",
    "    streaming=True\n",
    ")"
   ]
  },
  {
   "cell_type": "code",
   "execution_count": 24,
   "metadata": {},
   "outputs": [],
   "source": [
    "from langchain_huggingface.embeddings import HuggingFaceEmbeddings\n",
    "\n",
    "embeddings = HuggingFaceEmbeddings(model_name=\"all-MiniLM-L6-v2\")"
   ]
  },
  {
   "cell_type": "code",
   "execution_count": null,
   "metadata": {},
   "outputs": [],
   "source": [
    "# embeddings = OpenAIEmbeddings(\n",
    "#     deployment=os.getenv(\"AZURE_EMBEDDING_DEPLOYMENT_MODEL\")\n",
    "# )"
   ]
  },
  {
   "cell_type": "markdown",
   "metadata": {},
   "source": [
    "# Retriever Tool"
   ]
  },
  {
   "cell_type": "code",
   "execution_count": 25,
   "metadata": {},
   "outputs": [],
   "source": [
    "from langchain_text_splitters import RecursiveCharacterTextSplitter\n",
    "from langchain_community.document_loaders import WebBaseLoader\n",
    "from langchain_community.vectorstores import SKLearnVectorStore\n",
    "\n",
    "urls = [\n",
    "    \"https://blog.relari.ai/choosing-the-right-ai-agent-framework-langgraph-vs-crewai-vs-openai-swarm-56f7931b4249\",\n",
    "    \"https://medium.com/cyberark-engineering/building-production-ready-ai-agents-with-langgraph-a-real-life-use-case-7bda34c7f4e4\",\n",
    "]\n",
    "\n",
    "documents = [WebBaseLoader(url).load() for url in urls]\n",
    "doc_list = [subitem for item in documents for subitem in item]\n",
    "\n",
    "splitter = RecursiveCharacterTextSplitter(chunk_size=1000, chunk_overlap=100)\n",
    "docs_splits = splitter.split_documents(doc_list)\n",
    "\n",
    "vector_store = SKLearnVectorStore.from_documents(\n",
    "    documents=docs_splits,\n",
    "    embedding=embeddings\n",
    ")\n",
    "\n",
    "retriever = vector_store.as_retriever(k=4)"
   ]
  },
  {
   "cell_type": "code",
   "execution_count": null,
   "metadata": {},
   "outputs": [],
   "source": [
    "def retrieve_documents(query: str) -> List:\n",
    "    \"\"\"\n",
    "    Function will retrieve the documents stored in the vector store.\n",
    "    :param: query\n",
    "    :return: List of documents\n",
    "    \"\"\"\n",
    "    return retriever.invoke(query)"
   ]
  },
  {
   "cell_type": "markdown",
   "metadata": {},
   "source": [
    "Search Tool"
   ]
  },
  {
   "cell_type": "code",
   "execution_count": 29,
   "metadata": {},
   "outputs": [],
   "source": [
    "from langchain.schema import Document\n",
    "from langchain_community.tools.tavily_search import TavilySearchResults\n",
    "\n",
    "web_search_tool = TavilySearchResults()"
   ]
  },
  {
   "cell_type": "code",
   "execution_count": 30,
   "metadata": {},
   "outputs": [],
   "source": [
    "def web_search(query: str) -> List:\n",
    "    \"\"\" \n",
    "    Function Name: web_search\n",
    "    This function will use the TavilySearch API to search the web site\n",
    "    \n",
    "    :param query: The tavily search query\n",
    "    :return: List of Documents\n",
    "    \"\"\"\n",
    "    web_results = web_search_tool.invoke({\"query\": query})\n",
    "    return [\n",
    "        Document(page_content=d['content'], metadata={\"url\": d['url']}) for d in web_results\n",
    "    ]"
   ]
  },
  {
   "cell_type": "code",
   "execution_count": 31,
   "metadata": {},
   "outputs": [],
   "source": [
    "tools = [retrieve_documents, web_search]"
   ]
  },
  {
   "cell_type": "markdown",
   "metadata": {},
   "source": [
    "# Create Assistant"
   ]
  },
  {
   "cell_type": "code",
   "execution_count": 32,
   "metadata": {},
   "outputs": [],
   "source": [
    "from typing import Annotated, List\n",
    "from typing_extensions import TypedDict\n",
    "from langchain_core.prompts import ChatPromptTemplate\n",
    "from langchain_core.runnables import Runnable\n",
    "from langgraph.graph.message import AnyMessage, add_messages, BaseMessage"
   ]
  },
  {
   "cell_type": "markdown",
   "metadata": {},
   "source": [
    "Defining State"
   ]
  },
  {
   "cell_type": "code",
   "execution_count": 33,
   "metadata": {},
   "outputs": [],
   "source": [
    "class State(TypedDict):\n",
    "    messages: Annotated[List[AnyMessage], add_messages]"
   ]
  },
  {
   "cell_type": "code",
   "execution_count": 34,
   "metadata": {},
   "outputs": [],
   "source": [
    "class Assistant:\n",
    "    \n",
    "    def __init__(self, runnable: Runnable):\n",
    "        self.runnable = runnable\n",
    "        \n",
    "    def __call__(self, state: State, config: Runnable):\n",
    "        while True:\n",
    "            result = self.runnable.invoke(state)\n",
    "            if not result.tool_calls and (\n",
    "                not result.content\n",
    "                or isinstance(result.content, list)\n",
    "                and not result.content[0].get(\"text\")\n",
    "            ):\n",
    "                messages = state['messages'] + [{\"user\", \"Respond with a real outout.\"}]\n",
    "                state = {**state, \"messages\": messages}\n",
    "            else:\n",
    "                break\n",
    "            \n",
    "        return {\"messages\": result}"
   ]
  },
  {
   "cell_type": "markdown",
   "metadata": {},
   "source": [
    "Create the primary assistant prompt template"
   ]
  },
  {
   "cell_type": "code",
   "execution_count": 35,
   "metadata": {},
   "outputs": [],
   "source": [
    "from langchain_core.prompts import ChatPromptTemplate\n",
    "\n",
    "primary_assistant_prompt = ChatPromptTemplate.from_messages(\n",
    "    [\n",
    "        (\"system\",\n",
    "         \"You are a helpful assistant tasked with answering user questions.\"\n",
    "         \"You have access to two tools: retrieve_documents and web_search.\"\n",
    "         \"For any user questions about 'Choosing the Right AI Agent' and 'Production-Ready AI Agents' \\\n",
    "             use the retrieve_documents tools to get information from a vectorstore.\"\n",
    "         \"For any other questions, such as questions about current events, use the web_search tool \\\n",
    "             to get information from the web.\"\n",
    "         ),\n",
    "        (\"placeholder\", \"{messages}\"),\n",
    "    ]\n",
    ")"
   ]
  },
  {
   "cell_type": "markdown",
   "metadata": {},
   "source": [
    "Building tools to llm"
   ]
  },
  {
   "cell_type": "code",
   "execution_count": 36,
   "metadata": {},
   "outputs": [],
   "source": [
    "assistant_runnable = primary_assistant_prompt | llm.bind_tools(tools)"
   ]
  },
  {
   "cell_type": "code",
   "execution_count": 37,
   "metadata": {},
   "outputs": [],
   "source": [
    "from langchain_core.runnables import RunnableLambda\n",
    "from langchain_core.messages import ToolMessage\n",
    "from langgraph.prebuilt import ToolNode\n",
    "from langgraph.graph import END\n",
    "\n",
    "def handle_tool_error(state: State) -> dict:\n",
    "    error = state.get(\"error\")\n",
    "    tools_calls = state['messages'][-1].tool_calls\n",
    "    return {\n",
    "        \"messages\": [\n",
    "            ToolMessage(\n",
    "                content = f\"Error: {repr(error)}\\n please fix your mistakes.\",\n",
    "                tools_call_id=tc['id']\n",
    "            ) for tc in tools_calls\n",
    "        ]\n",
    "    }\n",
    "    \n",
    "def create_tool_node_with_fallback(tools: List) -> dict:\n",
    "    res = ToolNode(tools).with_fallbacks(\n",
    "        fallbacks=[RunnableLambda(handle_tool_error)],\n",
    "        exception_key=\"error\"\n",
    "    )\n",
    "    return res"
   ]
  },
  {
   "cell_type": "code",
   "execution_count": 39,
   "metadata": {},
   "outputs": [],
   "source": [
    "# tools_condition logic\n",
    "\n",
    "def should_continue(state: State):\n",
    "    messages = state[\"messages\"]\n",
    "    latest_message = messages[-1]\n",
    "    if latest_message.tool_calls:\n",
    "        return \"tools\"\n",
    "    return END"
   ]
  },
  {
   "cell_type": "code",
   "execution_count": 40,
   "metadata": {},
   "outputs": [
    {
     "data": {
      "text/plain": [
       "<langgraph.graph.state.StateGraph at 0x2645888e260>"
      ]
     },
     "execution_count": 40,
     "metadata": {},
     "output_type": "execute_result"
    }
   ],
   "source": [
    "from langgraph.graph import StateGraph, START, END\n",
    "from langgraph.prebuilt import tools_condition\n",
    "from IPython.display import display, Image\n",
    "\n",
    "builder = StateGraph(State)\n",
    "\n",
    "builder.add_node(\"assistant\", Assistant(assistant_runnable))\n",
    "builder.add_node(\"tools\", create_tool_node_with_fallback(tools))\n",
    "\n",
    "builder.add_edge(START, \"assistant\")\n",
    "builder.add_conditional_edges(\n",
    "    \"assistant\",\n",
    "    tools_condition,\n",
    ")\n",
    "\n",
    "builder.add_edge(\"tools\", \"assistant\")"
   ]
  },
  {
   "cell_type": "code",
   "execution_count": 41,
   "metadata": {},
   "outputs": [],
   "source": [
    "from langgraph.checkpoint.memory import MemorySaver\n",
    "\n",
    "memory = MemorySaver()\n",
    "\n",
    "react_graph = builder.compile(checkpointer=memory)"
   ]
  },
  {
   "cell_type": "code",
   "execution_count": 43,
   "metadata": {},
   "outputs": [
    {
     "data": {
      "image/png": "[encoded data removed]",
      "text/plain": [
       "<IPython.core.display.Image object>"
      ]
     },
     "metadata": {},
     "output_type": "display_data"
    }
   ],
   "source": [
    "display(Image(react_graph.get_graph(xray=True).draw_mermaid_png()))"
   ]
  },
  {
   "cell_type": "markdown",
   "metadata": {},
   "source": [
    "Invoke Graph"
   ]
  },
  {
   "cell_type": "code",
   "execution_count": 44,
   "metadata": {},
   "outputs": [
    {
     "name": "stdout",
     "output_type": "stream",
     "text": [
      "================================\u001b[1m Human Message \u001b[0m=================================\n",
      "\n",
      "What are nodes in Langgraph?\n",
      "==================================\u001b[1m Ai Message \u001b[0m==================================\n",
      "Tool Calls:\n",
      "  retrieve_documents (call_SGH6t5MxhO0GJHFuT8HnCXJn)\n",
      " Call ID: call_SGH6t5MxhO0GJHFuT8HnCXJn\n",
      "  Args:\n",
      "    query: nodes in Langgraph\n",
      "=================================\u001b[1m Tool Message \u001b[0m=================================\n",
      "Name: retrieve_documents\n",
      "\n",
      "[Document(metadata={'id': '7a1fd835-9139-4ae9-810e-3a6aec16aecb', 'source': 'https://medium.com/cyberark-engineering/building-production-ready-ai-agents-with-langgraph-a-real-life-use-case-7bda34c7f4e4', 'title': 'Building Production-Ready AI Agents with LangGraph: A Real-Life Use Case | by Nir Bar | CyberArk Engineering | Medium', 'description': 'In my recent blog post, A Developer Guide for Creating a Multi-Modal Chatbot Using LangChain Agents, I discussed the role of AI Agents and demonstrated an implementation using the LangChain…', 'language': 'en'}, page_content='for building robust, production-ready systems. LangGraph extends LangChain by enabling stateful, multi-actor applications with cyclical graphs, making it easier to build sophisticated, reliable agent runtimes.The main key features in LangGraph are:Cycles and Branching. Implement loops and conditionals in your apps.In LangGraph, each node represents an LLM agent, and the edges are the communication channels between these agents. This structure allows for clear and manageable workflows, where each agent performs specific tasks and passes information to other agents as needed.Persistent State Management. Automatically save the state after each step in the graph. Pause and resume the graph execution at any point to support error recovery, human-in-the-loop workflows, time travel and more.Human-in-the-Loop. Interrupt graph execution and give the user the option to approve or edit the following action planned by the agent.Streaming Support. Stream outputs as they are produced by each node'), Document(metadata={'id': '4b7425be-8605-4693-bbf7-ee7f8ec775d4', 'source': 'https://blog.relari.ai/choosing-the-right-ai-agent-framework-langgraph-vs-crewai-vs-openai-swarm-56f7931b4249', 'title': 'Choosing the Right AI Agent Framework: LangGraph vs CrewAI vs OpenAI Swarm | Relari | Relari Blog', 'description': 'In-depth LLM Agent Framework comparison of LangGraph, CrewAI, OpenAI Swarm.', 'language': 'en'}, page_content='on how they bring multiple sub-agents together.\\u200dLangGraphThe core of langgraph is graph-based orchestration. We first create the supervisor agent, which acts as a router and its sole task is to analyze the situation and decide which agent to call next. The execution agents themselves can only communicate the results back to the supervisor agent.LangGraph requires the explicit definition of the state. The AgentState class helps define a common state schema across different agents.class AgentState(TypedDict):    messages: Annotated[Sequence[BaseMessage], operator.add]    next: strFor each agent, we interact with the state by wrapping it in a node that converts the agent output into the consistent message schema.async def financial_data_node(state):    result = await financial_data_agent.ainvoke(state)    return {        \"messages\": [            AIMessage(                content=result[\"messages\"][-1].content, name=\"Financial_Data_Agent\"            )        ]    }We are now ready to'), Document(metadata={'id': '9d3101a2-5a58-4beb-984b-dd7cbae81040', 'source': 'https://blog.relari.ai/choosing-the-right-ai-agent-framework-langgraph-vs-crewai-vs-openai-swarm-56f7931b4249', 'title': 'Choosing the Right AI Agent Framework: LangGraph vs CrewAI vs OpenAI Swarm | Relari | Relari Blog', 'description': 'In-depth LLM Agent Framework comparison of LangGraph, CrewAI, OpenAI Swarm.', 'language': 'en'}, page_content='Frameworks like LangGraph, CrewAI, and OpenAI Swarm simplify the process, enabling developers to focus on their application logic instead of reinventing the wheel for state management, orchestration, and tool integration.At their core agents framework offerA simple way to define agents and toolsAn orchestration mechanismState managementAdditional tools to enable more complex applications like: persistence layer (memory), interruptions, etcWe will go through each of these in the following sections.\\u200dIntroducing Agent FrameworksWe chose LangGraph, CrewAI, and OpenAI Swarm because they represent the latest schools of thought in agent development. Here’s a quick overview:LangGraph: As its name suggests, LangGraph bets on graph architecture as the best way to define and orchestrate agentic workflows. Unlike early versions of LangChain, LangGraph is a well designed framework with many robust and customizable features built for production. However, it’s sometimes more complex than necessary'), Document(metadata={'id': '642f0165-27e2-4941-83fe-d6e7c90299dc', 'source': 'https://blog.relari.ai/choosing-the-right-ai-agent-framework-langgraph-vs-crewai-vs-openai-swarm-56f7931b4249', 'title': 'Choosing the Right AI Agent Framework: LangGraph vs CrewAI vs OpenAI Swarm | Relari | Relari Blog', 'description': 'In-depth LLM Agent Framework comparison of LangGraph, CrewAI, OpenAI Swarm.', 'language': 'en'}, page_content='transfer_to_web_researcher,        transfer_to_summarizer    ])A drawback of this approach is that as the application grows the dependencies between agents are harder to keep track of.3. MemoryMemory is a critical component of a stateful agentic system. We can distinguish two layers of memory:short-term memory allows an agent to maintain multi-turn / multi-step executions,long-term memory allows an agent to learn and remember preferences across sessions.This topic can get very complex, but let’s take a look at the simplest memory orchestration available in each framework.\\u200dLangGraphLangGraph differentiates memory between in-thread (memory within a single conversation thread) and cross-thread (memory across conversation).To save in-thread memory, LangGraph offers the MemorySaver() class that saves the state of the graph, or the conversation history into a checkpointer.from langgraph.checkpoint.memory import MemorySaverdef build_app():    \"\"\"Build and compile the workflow.\"\"\"')]\n",
      "==================================\u001b[1m Ai Message \u001b[0m==================================\n",
      "\n",
      "In LangGraph, each node represents an LLM (Large Language Model) agent. The edges between these nodes are the communication channels through which these agents interact. This structure allows for the creation of clear and manageable workflows where each agent performs specific tasks and exchanges information with other agents as needed. This setup is useful for implementing loops, conditionals, and other complex workflows within the system.\n"
     ]
    }
   ],
   "source": [
    "inputs = {\"messages\": [(\"human\", \"What are nodes in Langgraph?\")]}\n",
    "\n",
    "config = {\n",
    "    \"configurable\":{\n",
    "        \"thread_id\": str(uuid.uuid4()),\n",
    "    }\n",
    "}\n",
    "\n",
    "async for chunk in react_graph.astream(inputs, stream_mode=\"values\", config=config):\n",
    "    chunk['messages'][-1].pretty_print()"
   ]
  },
  {
   "cell_type": "code",
   "execution_count": 45,
   "metadata": {},
   "outputs": [
    {
     "name": "stdout",
     "output_type": "stream",
     "text": [
      "================================\u001b[1m Human Message \u001b[0m=================================\n",
      "\n",
      "What is the weather in SF?\n",
      "==================================\u001b[1m Ai Message \u001b[0m==================================\n",
      "Tool Calls:\n",
      "  web_search (call_DVDpAfEjCOvMnbTw9CsTuLD5)\n",
      " Call ID: call_DVDpAfEjCOvMnbTw9CsTuLD5\n",
      "  Args:\n",
      "    query: current weather in San Francisco\n",
      "=================================\u001b[1m Tool Message \u001b[0m=================================\n",
      "Name: web_search\n",
      "\n",
      "[Document(metadata={'url': 'https://www.weatherapi.com/'}, page_content=\"{'location': {'name': 'San Francisco', 'region': 'California', 'country': 'United States of America', 'lat': 37.775, 'lon': -122.4183, 'tz_id': 'America/Los_Angeles', 'localtime_epoch': 1738998752, 'localtime': '2025-02-07 23:12'}, 'current': {'last_updated_epoch': 1738998000, 'last_updated': '2025-02-07 23:00', 'temp_c': 8.9, 'temp_f': 48.0, 'is_day': 0, 'condition': {'text': 'Clear', 'icon': '//cdn.weatherapi.com/weather/64x64/night/113.png', 'code': 1000}, 'wind_mph': 6.0, 'wind_kph': 9.7, 'wind_degree': 322, 'wind_dir': 'NW', 'pressure_mb': 1026.0, 'pressure_in': 30.3, 'precip_mm': 0.0, 'precip_in': 0.0, 'humidity': 89, 'cloud': 0, 'feelslike_c': 7.4, 'feelslike_f': 45.3, 'windchill_c': 9.5, 'windchill_f': 49.1, 'heatindex_c': 9.9, 'heatindex_f': 49.7, 'dewpoint_c': 7.6, 'dewpoint_f': 45.7, 'vis_km': 16.0, 'vis_miles': 9.0, 'uv': 0.0, 'gust_mph': 9.6, 'gust_kph': 15.4}}\"), Document(metadata={'url': 'https://www.easeweather.com/north-america/united-states/california/city-and-county-of-san-francisco/san-francisco/august'}, page_content='Weather in San Francisco in August 2025 - Detailed Forecast Weather in San Francisco for August 2025 Your guide to San Francisco weather in August - trends and predictions In general, the average temperature in San Francisco at the beginning of August is 21.1\\xa0°F. San Francisco in August average weather Temperatures trend during August in San Francisco San Francisco in August - FAQ The average wind speed in San Francisco during August is 17\\xa0km/h, suggesting breezy to windy conditions, depending on your activities. Explore the daily rainfall trends and prepare for San Franciscos August weather\\xa0💧 Get accurate weather forecasts for San Francisco, located at latitude 37.775 and longitude -122.419.'), Document(metadata={'url': 'https://www.weather25.com/north-america/usa/california/san-francisco?page=month&month=February'}, page_content='San Francisco weather in February 2025 | Weather25.com San Francisco weather in February 2025 The average weather in San Francisco in February | San Francisco in February | Temperatures in San Francisco in February Weather in San Francisco in February - FAQ What is the average temperature in San Francisco in February? The average temperature in San Francisco in February is 7/16° C. On average, there are 4 rainy days in San Francisco during February. The weather in San Francisco in February is good. On average, there are 0 snowy days in San Francisco in February. More about the weather in San Francisco San Francisco 14 day weather Long range weather for San Francisco San Francisco weather in March San Francisco Webcam Weather tomorrow Hotels in San Francisco'), Document(metadata={'url': 'https://www.accuweather.com/en/us/san-francisco/94103/february-weather/347629'}, page_content=\"San Francisco, CA Monthly Weather | AccuWeather San Francisco, CA Weather ### Hurricane Tracker### Severe Weather### Radar & Maps### News### Video### Winter Center Winter Weather Quick-hitting weekend storm to bring another blow to Northeast 4 hours ago Travel Cessna reported missing over Alaska with 10 on board, officials say 4 hours ago Weather Forecasts Spring forecast 2025: US faces split between warmups, lingering chill 2 days ago Winter Weather Winter storms to rage on across the nation early next week 4 hours ago Astronomy Mercury is about to join the planetary parade, but there's a catch 1 day ago  More Stories AccuWeather Ready Business Health Hurricane Leisure and Recreation Severe Weather Space and Astronomy Sports Travel Weather News Winter Center AccuWeather Ready Business Health Hurricane Leisure and Recreation Severe Weather Space and Astronomy Sports Travel Weather News Winter Center\"), Document(metadata={'url': 'https://www.accuweather.com/en/us/san-francisco/94103/august-weather/347629'}, page_content=\"San Francisco, CA Monthly Weather | AccuWeather San Francisco, CA Weather ### Hurricane Tracker### Severe Weather### Radar & Maps### News### Video### Winter Center Winter Weather Quick-hitting weekend storm to bring another blow to Northeast 4 hours ago Travel Cessna reported missing over Alaska with 10 on board, officials say 5 hours ago Weather Forecasts Spring forecast 2025: US faces split between warmups, lingering chill 2 days ago Winter Weather Winter storms to rage on across the nation early next week 4 hours ago Astronomy Mercury is about to join the planetary parade, but there's a catch 1 day ago  More Stories AccuWeather Ready Business Health Hurricane Leisure and Recreation Severe Weather Space and Astronomy Sports Travel Weather News Winter Center AccuWeather Ready Business Health Hurricane Leisure and Recreation Severe Weather Space and Astronomy Sports Travel Weather News Winter Center\")]\n",
      "==================================\u001b[1m Ai Message \u001b[0m==================================\n",
      "\n",
      "The current weather in San Francisco is clear with a temperature of 8.9°C (48.0°F). The wind is blowing from the northwest at 6.0 mph (9.7 kph), and the humidity level is at 89%. There is no precipitation at the moment.\n"
     ]
    }
   ],
   "source": [
    "inputs = {\"messages\": [(\"human\", \"What is the weather in SF?\")]}\n",
    "\n",
    "config = {\n",
    "    \"configurable\":{\n",
    "        \"thread_id\": str(uuid.uuid4()),\n",
    "    }\n",
    "}\n",
    "\n",
    "async for chunk in react_graph.astream(inputs, stream_mode=\"values\", config=config):\n",
    "    chunk['messages'][-1].pretty_print()"
   ]
  },
  {
   "cell_type": "code",
   "execution_count": 48,
   "metadata": {},
   "outputs": [
    {
     "name": "stdout",
     "output_type": "stream",
     "text": [
      "================================\u001b[1m Human Message \u001b[0m=================================\n",
      "\n",
      "Hi\n",
      "==================================\u001b[1m Ai Message \u001b[0m==================================\n",
      "\n",
      "Hello! How can I assist you today?\n"
     ]
    }
   ],
   "source": [
    "inputs = {\"messages\": [(\"human\", \"Hi\")]}\n",
    "\n",
    "config = {\n",
    "    \"configurable\":{\n",
    "        \"thread_id\": str(uuid.uuid4()),\n",
    "    }\n",
    "}\n",
    "\n",
    "async for chunk in react_graph.astream(inputs, stream_mode=\"values\", config=config):\n",
    "    chunk['messages'][-1].pretty_print()"
   ]
  },
  {
   "cell_type": "code",
   "execution_count": 47,
   "metadata": {},
   "outputs": [
    {
     "name": "stdout",
     "output_type": "stream",
     "text": [
      "================================\u001b[1m Human Message \u001b[0m=================================\n",
      "\n",
      "Which one is the coolest place?\n",
      "==================================\u001b[1m Ai Message \u001b[0m==================================\n",
      "Tool Calls:\n",
      "  web_search (call_dPWnROtJxVQVmyWcyaw39iIr)\n",
      " Call ID: call_dPWnROtJxVQVmyWcyaw39iIr\n",
      "  Args:\n",
      "    query: coolest places to visit in the world\n",
      "=================================\u001b[1m Tool Message \u001b[0m=================================\n",
      "Name: web_search\n",
      "\n",
      "[Document(metadata={'url': 'https://www.forbes.com/sites/laurabegleybloom/2019/09/04/bucket-list-travel-the-top-50-places-in-the-world/'}, page_content='Bucket List Travel: The Top 50 Places In The World · 1. Bali, Indonesia: · 2. New Orleans: · 3. Kerry, Ireland: · 4. Marrakesh, Morocco: · 5. Sydney:'), Document(metadata={'url': 'https://travel.usnews.com/rankings/worlds-best-vacations/'}, page_content=\"World's Best Places to Visit for 2025 · Swiss Alps · Bora Bora · Rome · Machu Picchu · Tokyo · Maui · Maldives · Tanzania; Great Barrier Reef\"), Document(metadata={'url': 'https://www.bucketlisttravels.com/round-up/100-bucket-list-destinations'}, page_content='100 Bucket list destinations & places to visit · 1. Amalfi Coast · 2. Amsterdam · 3. Andalusia · 4. Antarctica · 5. Athens · 6. Bali · 7. Banff National Park · 8.'), Document(metadata={'url': 'https://www.reddit.com/r/travel/comments/185lyzz/with_so_many_places_to_visit_and_see_in_the_world/'}, page_content=\"As a result, we've taken family vacations to London (2x), Rome (2x), Paris (2x), French Riviera (2x), Istanbul (2x), Moscow, Beijing, Hong Kong,\"), Document(metadata={'url': 'https://www.tripadvisor.com/TravelersChoice-Destinations-cTop-g1'}, page_content='From the holy sites of Sultanahmet and the 19th-century European elegance of Beyoğlu to the high fashion of Nişantaşı, the vibrant café society of Kadıköy and the football-loving streets of Beşiktaş, it’s easy to see why travelers say that Istanbul isn’t just one city, but many cities within one. A self-guided architecture tour can begin by the great bear statue in the central Puerta del Sol. Wander by the fanciful Royal Palace before absorbing the natural beauty of Retiro Park, then visit one of the city’s many museums. To fully appreciate the city’s dramatic stone architecture you can take a guided walking tour, or customize your own tour, making sure to visit the Padrao dos Descobrimentos, the Mosteiro dos Jeronimos, and the UNESCO World Heritage site the Torre de Belem.')]\n",
      "==================================\u001b[1m Ai Message \u001b[0m==================================\n",
      "\n",
      "Here are some of the coolest places to visit in the world according to various sources:\n",
      "\n",
      "1. **Bali, Indonesia** - Known for its stunning beaches, vibrant culture, and serene atmosphere.\n",
      "2. **New Orleans, USA** - Famous for its lively music scene, unique cuisine, and rich history.\n",
      "3. **Kerry, Ireland** - Renowned for its breathtaking landscapes and scenic drives.\n",
      "4. **Marrakesh, Morocco** - Offers a rich blend of traditional and modern experiences.\n",
      "5. **Sydney, Australia** - Known for its iconic landmarks such as the Sydney Opera House and Harbour Bridge.\n",
      "\n",
      "Other notable mentions include:\n",
      "- **Swiss Alps**\n",
      "- **Bora Bora**\n",
      "- **Rome, Italy**\n",
      "- **Machu Picchu, Peru**\n",
      "- **Tokyo, Japan**\n",
      "- **Maui, USA**\n",
      "- **Maldives**\n",
      "- **Tanzania**\n",
      "- **Great Barrier Reef, Australia**\n",
      "\n",
      "Each of these destinations offers unique experiences and attractions, making them some of the coolest places to visit in the world.\n"
     ]
    }
   ],
   "source": [
    "inputs = {\"messages\": [(\"human\", \"Which one is the coolest place?\")]}\n",
    "\n",
    "config = {\n",
    "    \"configurable\":{\n",
    "        \"thread_id\": str(uuid.uuid4()),\n",
    "    }\n",
    "}\n",
    "\n",
    "async for chunk in react_graph.astream(inputs, stream_mode=\"values\", config=config):\n",
    "    chunk['messages'][-1].pretty_print()"
   ]
  },
  {
   "cell_type": "code",
   "execution_count": null,
   "metadata": {},
   "outputs": [],
   "source": []
  }
 ],
 "metadata": {
  "kernelspec": {
   "display_name": "langchain",
   "language": "python",
   "name": "python3"
  },
  "language_info": {
   "codemirror_mode": {
    "name": "ipython",
    "version": 3
   },
   "file_extension": ".py",
   "mimetype": "text/x-python",
   "name": "python",
   "nbconvert_exporter": "python",
   "pygments_lexer": "ipython3",
   "version": "3.10.0"
  }
 },
 "nbformat": 4,
 "nbformat_minor": 2
}
