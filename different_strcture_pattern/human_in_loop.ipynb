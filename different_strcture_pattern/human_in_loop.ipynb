{
 "cells": [
  {
   "cell_type": "code",
   "execution_count": 40,
   "metadata": {},
   "outputs": [],
   "source": [
    "from langgraph.graph import MessagesState, StateGraph, START, END\n",
    "import operator, json\n",
    "from typing import TypedDict, Annotated, Sequence\n",
    "from typing_extensions import TypedDict\n",
    "from langchain_core.messages import BaseMessage\n",
    "from langgraph.checkpoint.memory import MemorySaver\n",
    "from langgraph.graph.message import add_messages\n",
    "from langgraph.prebuilt import ToolNode, tools_condition\n",
    "from langchain_core.tools import tool\n",
    "from langchain_community.tools.tavily_search import TavilySearchResults"
   ]
  },
  {
   "cell_type": "code",
   "execution_count": 41,
   "metadata": {},
   "outputs": [],
   "source": [
    "from langchain_groq import ChatGroq\n",
    "llm = ChatGroq(model=\"Gemma2-9b-It\")"
   ]
  },
  {
   "cell_type": "code",
   "execution_count": 42,
   "metadata": {},
   "outputs": [
    {
     "data": {
      "text/plain": [
       "'Hi! 👋\\n\\nWhat can I do for you today? 😊\\n'"
      ]
     },
     "execution_count": 42,
     "metadata": {},
     "output_type": "execute_result"
    }
   ],
   "source": [
    "llm.invoke(\"hi\").content"
   ]
  },
  {
   "cell_type": "code",
   "execution_count": 43,
   "metadata": {},
   "outputs": [],
   "source": [
    "@tool\n",
    "def multiply(first_number: int, second_number: int):\n",
    "    \"\"\"multiply two integer number\"\"\"\n",
    "    return first_number * second_number"
   ]
  },
  {
   "cell_type": "code",
   "execution_count": 44,
   "metadata": {},
   "outputs": [
    {
     "data": {
      "text/plain": [
       "60"
      ]
     },
     "execution_count": 44,
     "metadata": {},
     "output_type": "execute_result"
    }
   ],
   "source": [
    "multiply({\"first_number\": 12, \"second_number\": 5})"
   ]
  },
  {
   "cell_type": "code",
   "execution_count": 45,
   "metadata": {},
   "outputs": [
    {
     "data": {
      "text/plain": [
       "60"
      ]
     },
     "execution_count": 45,
     "metadata": {},
     "output_type": "execute_result"
    }
   ],
   "source": [
    "multiply.invoke({\"first_number\": 12, \"second_number\": 5})"
   ]
  },
  {
   "cell_type": "code",
   "execution_count": 46,
   "metadata": {},
   "outputs": [],
   "source": [
    "@tool\n",
    "def search(query: str):\n",
    "    \"\"\"perform the web search on the user query\"\"\"\n",
    "    tavily = TavilySearchResults()\n",
    "    result = tavily.invoke(query)\n",
    "    return result"
   ]
  },
  {
   "cell_type": "code",
   "execution_count": 47,
   "metadata": {},
   "outputs": [
    {
     "data": {
      "text/plain": [
       "[{'url': 'https://simple.wikipedia.org/wiki/President_of_the_United_States',\n",
       "  'content': 'The president is also the head of the executive branch of the federal government of the United States and is the chairman of the presidential cabinet.[10]\\nJoe Biden is the 46th and current president of the United States, in office since January 2021.[11]\\nEligibility and requirements[change | change source]\\nArticle II, Section 1, Clause 5 of the constitution states for a person to serve as president must:\\nElection process and presidential terms[change | change source]\\nThe president is elected by the people through the Electoral College to a four-year term, along with the vice presidential candidate or the incumbent vice president of the United States as their running mate.[12] Contents\\nPresident of the United States\\nThe president of the United States (POTUS)[9] is the head of state and head of government of the United States of America and the commander-in-chief of the United States Armed Forces. Executive Office of the President[change | change source]\\nThe Executive Office of the President consists of the offices and agencies that support the work of the president at the center of the executive branch of the United States federal government. President-elect of the United States[change | change source]\\nThe president-elect of the United States is the candidate who has won the United States presidential election and is awaiting inauguration to become the president.\\n The office consists of several offices and agencies, such as the White House Office, the staff working directly for and reporting to the president, including White House staff, the National Security Council, and the Office of Management and Budget.\\n'},\n",
       " {'url': 'https://www.usa.gov/presidents',\n",
       "  'content': 'Vice president of the United States\\nThe vice president of the United States presides over the U.S. Senate and takes over the role of president of the United States if the president is unable to perform his or her duties. President of the United States\\nThe president of the United States is the:\\nCurrent president\\nThe 46th and current president of the United States is Joseph R. Biden, Jr. First lady\\nThe First lady of the United States has traditionally been the wife or other close female relative of the president of the United States. Requirements to be eligible to become president\\nAccording to Article II of the U.S. Constitution, the president must:\\nLearn about the U.S. presidential election process.\\n If the vice president is not able to fulfill the duties of president, the role is passed to another leader in the order of presidential succession.\\n'},\n",
       " {'url': 'https://en.wikipedia.org/wiki/List_of_Presidents_of_the_United_States',\n",
       "  'content': 'National Union[l]\\n1864\\nAndrew Johnson\\nDemocratic\\n1872\\nHenry Wilson[e]\\nVacant\\xa0afterNovember 22, 1875\\nVacant\\xa0afterNovember 25, 1885\\n1900\\nVacant\\xa0afterNovember 21, 1899\\nTheodore Roosevelt\\n1904\\nCharles W. Fairbanks\\nVacant\\xa0afterOctober 30, 1912\\n1916\\n1924\\nCharles G. Dawes\\n1936\\n1940\\n1944\\nHenry A. Wallace\\nHarry S. Truman\\n1948\\nAlben W. Barkley\\n1956\\n1964\\nHubert Humphrey\\n1972\\nVacant:October 10\\xa0– December 6, 1973\\nGerald Ford[t]\\nNelson Rockefeller[t]\\n1984\\n1996\\n2004\\n2012\\nSee also\\nNotes\\nReferences\\nWorks cited\\nGeneral\\nExpert studies\\nPresidential biographies\\nOnline sources\\nExternal links He was, and remains, the only U.S. president never affiliated with a political party.[13]\\nPresidents\\n1792\\n1804\\nGeorge Clinton\\n1812\\nVacant\\xa0afterApril 20, 1812\\nElbridge Gerry[e]\\nVacant\\xa0afterNovember 23, 1814\\n Contents\\nList of presidents of the United States\\nThe president of the United States is the head of state and head of government of the United States,[1] indirectly elected to a four-year term via the Electoral College.[2] Four presidents died in office of natural causes (William Henry Harrison, Zachary Taylor, Warren G. Harding, and Franklin D. Roosevelt), four were assassinated (Abraham Lincoln, James A. Garfield, William McKinley, and John F. Kennedy), and one resigned (Richard Nixon, facing impeachment and removal from office).[10] John Tyler was the first vice president to assume the presidency during a presidential term, and set the precedent that a vice president who does so becomes the fully functioning president with his presidency.[11]\\nThroughout most of its history, American politics has been dominated by political parties. 1820\\nNational Republican\\n1832\\nVacant\\xa0afterDecember 28, 1832\\nMartin Van Buren\\nUnaffiliated\\nVacant\\xa0afterApril 18, 1853\\n'},\n",
       " {'url': 'https://potus.com/joe-biden/',\n",
       "  'content': '46th President of the United States (January 20, 2021 to Present) Full Name: Joseph Robinette Biden, Jr. Nicknames: \"Amtrak Joe\" Born: November 20, 1942, in Scranton, Pennsylvania Father: Joseph Robinette Biden, Sr. (1915-2002) Mother: Catherine Eugenia \"Jean\" Finnegan (1917-2010) Married: Neilia Hunter (1942-1972), on Aug. 27, 1966; Jill Tracy Jacobs (1951- ) on Jun, 17, 1977'},\n",
       " {'url': 'https://en.wikipedia.org/wiki/President_of_the_United_States',\n",
       "  'content': 'The following decade, Woodrow Wilson led the nation to victory during World War I, although Wilson\\'s proposal for the League of Nations was rejected by the Senate.[42]\\nWarren Harding, while popular in office, would see his legacy tarnished by scandals, especially Teapot Dome,[43] and Herbert Hoover quickly became very unpopular after failing to alleviate the Great Depression.[44]\\nImperial presidency\\nThe ascendancy of Franklin D. Roosevelt in 1933 led further toward what historians now describe as the Imperial presidency.[45] Backed by enormous Democratic majorities in Congress and public support for major change, Roosevelt\\'s New Deal dramatically increased the size and scope of the federal government, including more executive agencies.[46]:\\u200a211–12\\u200a The traditionally small presidential staff was greatly expanded, with the Executive Office of the President being created in 1939, none of whom require Senate confirmation.[46]:\\u200a229–231\\u200a Roosevelt\\'s unprecedented re-election to a third and fourth term, the victory of the United States in World War II, and the nation\\'s growing economy all helped established the office as a position of global leadership.[46]:\\u200a269\\u200a His successors, Harry Truman and Dwight D. Eisenhower, each served two terms as the Cold War led the presidency to be viewed as the \"leader of the free world\",[47] while John F. Kennedy was a youthful and popular leader who benefited from the rise of television in the 1960s.[48][49]\\nAfter Lyndon B. Johnson lost popular support due to the Vietnam War and Richard Nixon\\'s presidency collapsed in the Watergate scandal, Congress enacted a series of reforms intended to reassert itself.[50][51] However, his successor, Martin Van Buren, became unpopular after the Panic of 1837,[31] and the death of William Henry Harrison and subsequent poor relations between John Tyler and Congress led to further weakening of the office.[32] Including Van Buren, in the 24 years between 1837 and 1861, six presidential terms would be filled by eight different men, with none serving two terms.[33] The Senate played an important role during this period, with the Great Triumvirate of Henry Clay, Daniel Webster, and John C. Calhoun playing key roles in shaping national policy in the 1830s and 1840s until debates over slavery began pulling the nation apart in the 1850s.[34][35]\\nAbraham Lincoln\\'s leadership during the Civil War has led historians to regard him as one of the nation\\'s greatest presidents.[D] The circumstances of the war and Republican domination of Congress made the office very powerful,[36][37] and Lincoln\\'s re-election in 1864 was the first time a president had been re-elected since Jackson in 1832. Recent presidents have thus increasingly focused on executive orders, agency regulations, and judicial appointments to implement major policies, at the expense of legislation and congressional power.[60] Presidential elections in the 21st century have reflected this continuing polarization, with no candidate except Obama in 2008 winning by more than five percent of the popular vote and two, George W. Bush and Donald Trump, winning in the Electoral College while losing the popular vote.[E]\\nCritics of presidency\\'s evolution\\nThe nation\\'s Founding Fathers expected the Congress, which was the first branch of government described in the Constitution, to be the dominant branch of government; however, they did not expect a strong executive department.[61] However, presidential power has shifted over time, which has resulted in claims that the modern presidency has become too powerful,[62][63] unchecked, unbalanced,[64] and \"monarchist\" in nature.[65] The mechanism has been used by Ronald Reagan (once), George W. Bush (twice), and Joe Biden (once), each in anticipation of surgery.[155][156]\\nThe Twenty-fifth Amendment also provides that the vice president, together with a majority of certain members of the Cabinet, may transfer the presidential powers and duties to the vice president by transmitting a written declaration, to the speaker of the House and the president pro tempore of the Senate, to the effect that the president is unable to discharge his or her powers and duties. The exact degree of authority that the Constitution grants to the president as commander-in-chief has been the subject of much debate throughout history, with Congress at various times granting the president wide authority and at others attempting to restrict that authority.[86] The framers of the Constitution took care to limit the president\\'s powers regarding the military; Alexander Hamilton explained this in Federalist No. 69:\\nThe President is to be commander-in-chief of the army and navy of the United States.\\xa0...'}]"
      ]
     },
     "execution_count": 47,
     "metadata": {},
     "output_type": "execute_result"
    }
   ],
   "source": [
    "search(\"Who is a current president of USA?\")"
   ]
  },
  {
   "cell_type": "code",
   "execution_count": 48,
   "metadata": {},
   "outputs": [],
   "source": [
    "tools = [search, multiply]"
   ]
  },
  {
   "cell_type": "code",
   "execution_count": 49,
   "metadata": {},
   "outputs": [],
   "source": [
    "llm_with_tools = llm.bind_tools(tools)"
   ]
  },
  {
   "cell_type": "code",
   "execution_count": 50,
   "metadata": {},
   "outputs": [],
   "source": [
    "tool_mapping = {tool.name: tool for tool in tools}"
   ]
  },
  {
   "cell_type": "code",
   "execution_count": 51,
   "metadata": {},
   "outputs": [
    {
     "data": {
      "text/plain": [
       "{'search': StructuredTool(name='search', description='perform the web search on the user query', args_schema=<class 'langchain_core.utils.pydantic.search'>, func=<function search at 0x0000021ED40D5C60>),\n",
       " 'multiply': StructuredTool(name='multiply', description='multiply two integer number', args_schema=<class 'langchain_core.utils.pydantic.multiply'>, func=<function multiply at 0x0000021ED40D5510>)}"
      ]
     },
     "execution_count": 51,
     "metadata": {},
     "output_type": "execute_result"
    }
   ],
   "source": [
    "tool_mapping"
   ]
  },
  {
   "cell_type": "code",
   "execution_count": 52,
   "metadata": {},
   "outputs": [
    {
     "data": {
      "text/plain": [
       "AIMessage(content='', additional_kwargs={'tool_calls': [{'id': 'call_90q3', 'function': {'arguments': '{\"query\":\"current president of USA\"}', 'name': 'search'}, 'type': 'function'}]}, response_metadata={'token_usage': {'completion_tokens': 83, 'prompt_tokens': 1076, 'total_tokens': 1159, 'completion_time': 0.150909091, 'prompt_time': 0.035922866, 'queue_time': 0.019864163000000004, 'total_time': 0.186831957}, 'model_name': 'Gemma2-9b-It', 'system_fingerprint': 'fp_10c08bf97d', 'finish_reason': 'tool_calls', 'logprobs': None}, id='run-2e1690c8-4125-4787-b836-a013d688e348-0', tool_calls=[{'name': 'search', 'args': {'query': 'current president of USA'}, 'id': 'call_90q3', 'type': 'tool_call'}], usage_metadata={'input_tokens': 1076, 'output_tokens': 83, 'total_tokens': 1159})"
      ]
     },
     "execution_count": 52,
     "metadata": {},
     "output_type": "execute_result"
    }
   ],
   "source": [
    "response = llm_with_tools.invoke(\"who is a current president of USA?\")\n",
    "response"
   ]
  },
  {
   "cell_type": "code",
   "execution_count": 53,
   "metadata": {},
   "outputs": [
    {
     "data": {
      "text/plain": [
       "[{'id': 'call_90q3',\n",
       "  'function': {'arguments': '{\"query\":\"current president of USA\"}',\n",
       "   'name': 'search'},\n",
       "  'type': 'function'}]"
      ]
     },
     "execution_count": 53,
     "metadata": {},
     "output_type": "execute_result"
    }
   ],
   "source": [
    "tool_details = response.additional_kwargs.get(\"tool_calls\")\n",
    "tool_details"
   ]
  },
  {
   "cell_type": "code",
   "execution_count": 54,
   "metadata": {},
   "outputs": [
    {
     "data": {
      "text/plain": [
       "'search'"
      ]
     },
     "execution_count": 54,
     "metadata": {},
     "output_type": "execute_result"
    }
   ],
   "source": [
    "tool_details[0]['function']['name']"
   ]
  },
  {
   "cell_type": "code",
   "execution_count": 55,
   "metadata": {},
   "outputs": [
    {
     "data": {
      "text/plain": [
       "'{\"query\":\"current president of USA\"}'"
      ]
     },
     "execution_count": 55,
     "metadata": {},
     "output_type": "execute_result"
    }
   ],
   "source": [
    "tool_details[0]['function']['arguments']"
   ]
  },
  {
   "cell_type": "code",
   "execution_count": 56,
   "metadata": {},
   "outputs": [
    {
     "data": {
      "text/plain": [
       "{'query': 'current president of USA'}"
      ]
     },
     "execution_count": 56,
     "metadata": {},
     "output_type": "execute_result"
    }
   ],
   "source": [
    "json.loads(tool_details[0]['function']['arguments'])"
   ]
  },
  {
   "cell_type": "code",
   "execution_count": 57,
   "metadata": {},
   "outputs": [
    {
     "data": {
      "text/plain": [
       "[{'url': 'https://simple.wikipedia.org/wiki/President_of_the_United_States',\n",
       "  'content': 'The president is also the head of the executive branch of the federal government of the United States and is the chairman of the presidential cabinet.[10]\\nJoe Biden is the 46th and current president of the United States, in office since January 2021.[11]\\nEligibility and requirements[change | change source]\\nArticle II, Section 1, Clause 5 of the constitution states for a person to serve as president must:\\nElection process and presidential terms[change | change source]\\nThe president is elected by the people through the Electoral College to a four-year term, along with the vice presidential candidate or the incumbent vice president of the United States as their running mate.[12] Contents\\nPresident of the United States\\nThe president of the United States (POTUS)[9] is the head of state and head of government of the United States of America and the commander-in-chief of the United States Armed Forces. Executive Office of the President[change | change source]\\nThe Executive Office of the President consists of the offices and agencies that support the work of the president at the center of the executive branch of the United States federal government. President-elect of the United States[change | change source]\\nThe president-elect of the United States is the candidate who has won the United States presidential election and is awaiting inauguration to become the president.\\n The office consists of several offices and agencies, such as the White House Office, the staff working directly for and reporting to the president, including White House staff, the National Security Council, and the Office of Management and Budget.\\n'},\n",
       " {'url': 'https://www.usa.gov/presidents',\n",
       "  'content': 'Vice president of the United States\\nThe vice president of the United States presides over the U.S. Senate and takes over the role of president of the United States if the president is unable to perform his or her duties. President of the United States\\nThe president of the United States is the:\\nCurrent president\\nThe 46th and current president of the United States is Joseph R. Biden, Jr. First lady\\nThe First lady of the United States has traditionally been the wife or other close female relative of the president of the United States. Requirements to be eligible to become president\\nAccording to Article II of the U.S. Constitution, the president must:\\nLearn about the U.S. presidential election process.\\n If the vice president is not able to fulfill the duties of president, the role is passed to another leader in the order of presidential succession.\\n'},\n",
       " {'url': 'https://en.wikipedia.org/wiki/List_of_Presidents_of_the_United_States',\n",
       "  'content': 'National Union[l]\\n1864\\nAndrew Johnson\\nDemocratic\\n1872\\nHenry Wilson[e]\\nVacant\\xa0afterNovember 22, 1875\\nVacant\\xa0afterNovember 25, 1885\\n1900\\nVacant\\xa0afterNovember 21, 1899\\nTheodore Roosevelt\\n1904\\nCharles W. Fairbanks\\nVacant\\xa0afterOctober 30, 1912\\n1916\\n1924\\nCharles G. Dawes\\n1936\\n1940\\n1944\\nHenry A. Wallace\\nHarry S. Truman\\n1948\\nAlben W. Barkley\\n1956\\n1964\\nHubert Humphrey\\n1972\\nVacant:October 10\\xa0– December 6, 1973\\nGerald Ford[t]\\nNelson Rockefeller[t]\\n1984\\n1996\\n2004\\n2012\\nSee also\\nNotes\\nReferences\\nWorks cited\\nGeneral\\nExpert studies\\nPresidential biographies\\nOnline sources\\nExternal links He was, and remains, the only U.S. president never affiliated with a political party.[13]\\nPresidents\\n1792\\n1804\\nGeorge Clinton\\n1812\\nVacant\\xa0afterApril 20, 1812\\nElbridge Gerry[e]\\nVacant\\xa0afterNovember 23, 1814\\n Contents\\nList of presidents of the United States\\nThe president of the United States is the head of state and head of government of the United States,[1] indirectly elected to a four-year term via the Electoral College.[2] Four presidents died in office of natural causes (William Henry Harrison, Zachary Taylor, Warren G. Harding, and Franklin D. Roosevelt), four were assassinated (Abraham Lincoln, James A. Garfield, William McKinley, and John F. Kennedy), and one resigned (Richard Nixon, facing impeachment and removal from office).[10] John Tyler was the first vice president to assume the presidency during a presidential term, and set the precedent that a vice president who does so becomes the fully functioning president with his presidency.[11]\\nThroughout most of its history, American politics has been dominated by political parties. 1820\\nNational Republican\\n1832\\nVacant\\xa0afterDecember 28, 1832\\nMartin Van Buren\\nUnaffiliated\\nVacant\\xa0afterApril 18, 1853\\n'},\n",
       " {'url': 'https://www.presidentsusa.net/presvplist.html',\n",
       "  'content': 'Presidents of the United States - List in Order by Term in Office George Washington   April 30, 1789  March 4, 1797 John Adams  March 4, 1797   March 4, 1801  James Madison   March 4, 1809   March 4, 1817  James Monroe    March 4, 1817   March 4, 1825  William Henry Harrison  March 4, 1841   April 4, 1841  John Tyler  April 4, 1841   March 4, 1845  Franklin Pierce March 4, 1853   March 4, 1857  James Buchanan  March 4, 1857   March 4, 1861  Abraham Lincoln March 4, 1861   April 15, 1865 Andrew Johnson  April 15, 1865  March 4, 1869  James Garfield  March 4, 1881   September 19, 1881 William McKinley    March 4, 1897   September 14, 1901 Harding   March 4, 1921   August 2, 1923 Roosevelt   March 4, 1933   April 12, 1945'},\n",
       " {'url': 'https://www.whitehouse.gov/about-the-white-house/presidents/',\n",
       "  'content': 'Presidents | The White House The 4th President of the United States The 5th President of the United States The 6th President of the United States The 7th President of the United States The 8th President of the United States The 9th President of the United States The 10th President of the United States The 11th President of the United States The 12th President of the United States The 13th President of the United States The 14th President of the United States The 15th President of the United States The 16th President of the United States The 17th President of the United States The 18th President of the United States Biden\\xa0Jr. THE 46TH PRESIDENT OF THE UNITED STATES'}]"
      ]
     },
     "execution_count": 57,
     "metadata": {},
     "output_type": "execute_result"
    }
   ],
   "source": [
    "tool_mapping[tool_details[0]['function']['name']].invoke(tool_details[0]['function']['arguments'])"
   ]
  },
  {
   "cell_type": "code",
   "execution_count": null,
   "metadata": {},
   "outputs": [],
   "source": []
  },
  {
   "cell_type": "code",
   "execution_count": 58,
   "metadata": {},
   "outputs": [],
   "source": [
    "class AgentState(TypedDict):\n",
    "    messages: Annotated[Sequence[BaseMessage], operator.add]"
   ]
  },
  {
   "cell_type": "code",
   "execution_count": 59,
   "metadata": {},
   "outputs": [],
   "source": [
    "def invoke_model(state: AgentState):\n",
    "    messages = state['messages']\n",
    "    question = messages[-1]\n",
    "    return {\"messages\": [llm_with_tools.invoke(question)]}"
   ]
  },
  {
   "cell_type": "code",
   "execution_count": 60,
   "metadata": {},
   "outputs": [],
   "source": [
    "def invoke_tool(state: AgentState):\n",
    "    tool_details = state['messages'][-1].additional_kwargs.get(\"tool_calls\", [])[0]\n",
    "    \n",
    "    if tool_details is None:\n",
    "        raise Exception(\"no tool call found\")\n",
    "    \n",
    "    print(f'Selected tool: {tool_details.get(\"function\").get(\"name\")}')\n",
    "    \n",
    "    if tool_details.get(\"function\").get(\"name\") == \"search\":\n",
    "        response = input(prompt=f\"[y/n] continue with expensive web search?\")\n",
    "        if response == \"n\":\n",
    "            raise Exception(\"web search discard\")\n",
    "        \n",
    "    response = tool_mapping[tool_details['function']['name']].invoke(json.loads(tool_details.get(\"function\").get(\"arguments\")))\n",
    "    return {\"messages\": [response]}"
   ]
  },
  {
   "cell_type": "code",
   "execution_count": 61,
   "metadata": {},
   "outputs": [],
   "source": [
    "def router(state):\n",
    "    tool_calls = state['messages'][-1].additional_kwargs.get(\"tool_calls\", [])\n",
    "    if len(tool_calls):\n",
    "        return \"tool\"\n",
    "    else:\n",
    "        return \"end\""
   ]
  },
  {
   "cell_type": "code",
   "execution_count": 62,
   "metadata": {},
   "outputs": [
    {
     "data": {
      "text/plain": [
       "<langgraph.graph.state.StateGraph at 0x21ed41e5d50>"
      ]
     },
     "execution_count": 62,
     "metadata": {},
     "output_type": "execute_result"
    }
   ],
   "source": [
    "graph = StateGraph(AgentState)\n",
    "\n",
    "graph.add_node(\"ai_assistant\", invoke_model)\n",
    "graph.add_node(\"tool\", invoke_tool)\n",
    "\n",
    "graph.add_conditional_edges(\n",
    "    \"ai_assistant\",\n",
    "    router,\n",
    "    {\n",
    "        \"tool\": \"tool\",\n",
    "        \"end\": END\n",
    "    }\n",
    ")\n",
    "\n",
    "# graph.add_edge(\"tool\", \"ai_assistant\")\n",
    "\n",
    "graph.add_edge(\"tool\", END)\n",
    "\n",
    "graph.set_entry_point(\"ai_assistant\")\n"
   ]
  },
  {
   "cell_type": "code",
   "execution_count": 63,
   "metadata": {},
   "outputs": [],
   "source": [
    "app = graph.compile()"
   ]
  },
  {
   "cell_type": "code",
   "execution_count": 64,
   "metadata": {},
   "outputs": [
    {
     "data": {
      "image/png": "[encoded data removed]",
      "text/plain": [
       "<IPython.core.display.Image object>"
      ]
     },
     "metadata": {},
     "output_type": "display_data"
    }
   ],
   "source": [
    "from IPython.display import Image, display\n",
    "\n",
    "try:\n",
    "    display(Image(app.get_graph().draw_mermaid_png()))\n",
    "except Exception as e:\n",
    "    print(e)"
   ]
  },
  {
   "cell_type": "code",
   "execution_count": 65,
   "metadata": {},
   "outputs": [
    {
     "name": "stdout",
     "output_type": "stream",
     "text": [
      "{'messages': [AIMessage(content='', additional_kwargs={'tool_calls': [{'id': 'call_efdq', 'function': {'arguments': '{\"query\":\"who is the upcoming president of the USA\"}', 'name': 'search'}, 'type': 'function'}]}, response_metadata={'token_usage': {'completion_tokens': 87, 'prompt_tokens': 1075, 'total_tokens': 1162, 'completion_time': 0.158181818, 'prompt_time': 0.043354077, 'queue_time': 0.019926306999999997, 'total_time': 0.201535895}, 'model_name': 'Gemma2-9b-It', 'system_fingerprint': 'fp_10c08bf97d', 'finish_reason': 'tool_calls', 'logprobs': None}, id='run-f2ecd2cd-0b58-4218-a791-08235e381062-0', tool_calls=[{'name': 'search', 'args': {'query': 'who is the upcoming president of the USA'}, 'id': 'call_efdq', 'type': 'tool_call'}], usage_metadata={'input_tokens': 1075, 'output_tokens': 87, 'total_tokens': 1162})]}\n",
      "--------\n",
      "Selected tool: search\n",
      "{'messages': [[{'url': 'https://www.business-standard.com/world-news/how-the-us-will-choose-its-next-president-election-process-explained-124083000632_1.html', 'content': 'How the US will choose its next president: Election process explained | World News - Business Standard Home / World News / How the US will choose its next president: Election process explained The upcoming US presidential election is shaping up to be a historic battle, with ex-President Donald Trump and Vice President Kamala Harris emerging as the primary contenders The US presidential election is a complex process, marked by several key phases that ultimately lead to the inauguration of the next president. However, the US president is not elected directly by the popular vote but through the electoral college, a system that allocates a certain number of electors to each state based on its representation in Congress. Topics : Kamala Harris US presidential election US Presidential poll Donald Trump BS Web Reports'}, {'url': 'https://www.nbcnews.com/politics/2024-election/trump-wins-election-president-harris-defeat-2024-race-rcna176107', 'content': 'Donald Trump defeats Kamala Harris to become the next U.S. president, NBC News projects BREAKING: Donald Trump is elected 47th president of the United States, NBC News projects Donald Trump defeats Kamala Harris to become the next U.S. president, NBC News projects Donald Trump defeats Kamala Harris to become the next U.S. president, NBC News projects Trump will make history as the 45th and now 47th president, NBC News projects, saying he will fix an ailing country and despite warnings he will rule as an authoritarian. NBC News projects Donald Trump is elected 47th president of the United States NBC News projected the Trump victory over Harris, who was the first woman of color to win a major party nomination for president, early Wednesday morning.'}, {'url': 'https://www.msn.com/en-us/news/politics/who-will-be-next-president-after-donald-trump-see-the-2028-us-presidential-election-odds/ar-AA1tDdRL', 'content': \"This opens the door for a new slate of candidates to run in 2028. 2028 US Presidential Election odds. JD Vance, Trump's running mate and vice president-elect, is now the odds-on-favorite to become\"}, {'url': 'https://www.latimes.com/politics/story/2024-11-06/trump-defeats-harris-47th-president-election-2024', 'content': 'Trump wins 2024 U.S. presidential election - Los Angeles Times Trump elected 47th president of the United States, defeating Harris to retake White House Nancy Northup, President and CEO of the Center for Reproductive Rights, called Trump’s win “a deadly threat to the democratic values of liberty and equality, the rule of law, and reproductive health, rights, and justice in the United States and around the globe.” “The Democrats thought there were enough people who hated Trump or were willing to fear him to win the race,” Jennings said. 2024 election results: Trump wins second term in historic comeback'}, {'url': 'https://www.nytimes.com/interactive/2023/us/politics/presidential-candidates-2024.html', 'content': 'Dean Phillips, a moderate Democrat elected to the House in 2018, has few major policy disagreements with President Biden and has supported his agenda in Congress, but argues that Mr. Biden’s age and low approval ratings mean the party should nominate someone else.\\nRepublicans\\nRead more: Candidates on the issues ›\\nFormer President Donald J. Trump is running to retake the office he lost in 2020, then denied losing to the point of inciting a mob of his supporters to attack the United States Capitol.\\n By Martín González Gómez and Maggie AstorUpdated Nov. 12, 2023\\nDemocrats\\nRepublicans\\nIndependent and third-party\\nDropped out\\nNot running\\nBy Martín González Gómez and Maggie Astor\\n More about the candidates\\nDemocrats\\nPresident Biden has cast himself as a protector of democracy and a stabilizing force after the upheaval of the Trump administration.\\n Nikki Haley, a former governor of South Carolina and United Nations ambassador under Mr. Trump, has presented herself as a member of “a new generation of leadership” and emphasized her life experience as a daughter of Indian immigrants.\\n Mr. Trump is far ahead of any of his challengers in polls — partly because the fractured field has made it hard for voters to coalesce around a single alternative, and partly because of the tight hold he still exerts on the party’s base.\\n'}]]}\n",
      "--------\n"
     ]
    }
   ],
   "source": [
    "for s in app.stream({\"messages\": [\"who is upcoming president of USA?\"]}):\n",
    "    print(list(s.values())[0])\n",
    "    print(\"--------\")"
   ]
  },
  {
   "cell_type": "code",
   "execution_count": 66,
   "metadata": {},
   "outputs": [
    {
     "name": "stdout",
     "output_type": "stream",
     "text": [
      "{'messages': [AIMessage(content='', additional_kwargs={'tool_calls': [{'id': 'call_w1yy', 'function': {'arguments': '{\"first_number\":23,\"second_number\":33}', 'name': 'multiply'}, 'type': 'function'}]}, response_metadata={'token_usage': {'completion_tokens': 93, 'prompt_tokens': 1079, 'total_tokens': 1172, 'completion_time': 0.169090909, 'prompt_time': 0.043786726, 'queue_time': 0.022510744, 'total_time': 0.212877635}, 'model_name': 'Gemma2-9b-It', 'system_fingerprint': 'fp_10c08bf97d', 'finish_reason': 'tool_calls', 'logprobs': None}, id='run-4f911573-7ce4-4176-b466-0981e195ccb8-0', tool_calls=[{'name': 'multiply', 'args': {'first_number': 23, 'second_number': 33}, 'id': 'call_w1yy', 'type': 'tool_call'}], usage_metadata={'input_tokens': 1079, 'output_tokens': 93, 'total_tokens': 1172})]}\n",
      "--------\n",
      "Selected tool: multiply\n",
      "{'messages': [759]}\n",
      "--------\n"
     ]
    }
   ],
   "source": [
    "for s in app.stream({\"messages\": [\"what is multiplication of 23 and 33\"]}):\n",
    "    print(list(s.values())[0])\n",
    "    print(\"--------\")"
   ]
  },
  {
   "cell_type": "code",
   "execution_count": 67,
   "metadata": {},
   "outputs": [
    {
     "name": "stdout",
     "output_type": "stream",
     "text": [
      "{'messages': [AIMessage(content='', additional_kwargs={'tool_calls': [{'id': 'call_46gf', 'function': {'arguments': '{\"query\":\"total amount of money in the world\"}', 'name': 'search'}, 'type': 'function'}]}, response_metadata={'token_usage': {'completion_tokens': 86, 'prompt_tokens': 1079, 'total_tokens': 1165, 'completion_time': 0.156363636, 'prompt_time': 0.057998329, 'queue_time': 0.024118692999999997, 'total_time': 0.214361965}, 'model_name': 'Gemma2-9b-It', 'system_fingerprint': 'fp_10c08bf97d', 'finish_reason': 'tool_calls', 'logprobs': None}, id='run-53c2d9d7-f041-444a-9311-a9b6c11c818f-0', tool_calls=[{'name': 'search', 'args': {'query': 'total amount of money in the world'}, 'id': 'call_46gf', 'type': 'tool_call'}], usage_metadata={'input_tokens': 1079, 'output_tokens': 86, 'total_tokens': 1165})]}\n",
      "--------\n",
      "Selected tool: search\n",
      "{'messages': [[{'url': 'https://www.ncesc.com/geographic-faq/how-much-money-has-exists-in-the-world/', 'content': 'How much money has exists in the world? How much money has exists in the world? How much money has exists in the world? How much money has exists in the world? It has been reported that there is approximately $37.474 trillion worth of money in the world in various forms. According to a 2023 report, the total amount of money in the world is roughly $40 trillion in circulation. How much cash money exists in the world? Estimates suggest that all the money in circulation is worth $8 trillion U.S. dollars. How much money is 1% in the world? How many $10000 dollar bills are there? Are $2 dollar bills rare?'}, {'url': 'https://www.under30ceo.com/how-much-money-is-there-in-the-world/', 'content': 'The total amount of money in the world is estimated to be around $80 trillion. Different types of money supply, like M0, M1, M2, and M3, help us understand how money is categorized. The US Dollar is the most widely used currency and is accepted in many countries.'}, {'url': 'https://www.pulse.ug/articles/world/whats-the-total-amount-of-money-in-the-world-right-now-2024112007504982691', 'content': \"The total amount of cash in the world As of November 28, 2022, the global M1 supply - basically all of the money in circulation, like banknotes and coins, as well as traveller's checks and demand deposits like checking and savings accounts—was $48.9 trillion.\"}, {'url': 'https://worldpopulationreview.com/metrics/how-much-money-is-in-the-world', 'content': 'The US Dollar is the most popular currency in the world. Many countries around the world accept the US Dollar alongside their own currency and it can be easily exchanged everywhere else. Therefore, in Kuwaiti Dinar, the total value of all currency in the world is just 24.7 trillion KD. Therefore, in Iranian Rial, the total value of all currency in the world is an unfathomable 3.36 Quintillion IRR. Therefore if we equate the estimated $80 trillion that exists in the world today to the extinct Zimbabwean Dollar, the total value of all currency on Earth is about 20 octillion ZWD. So the short answer to the question “How much money is in the World?” is $80 trillion.'}, {'url': 'https://www.worldatlas.com/articles/how-much-money-is-there-in-the-world.html', 'content': 'How Much Money Is There in the World? How Much Money Is There in the World? Globally, various countries have different values for money bearing unique names. How much money is there in the world? World commercial real estate money is about $215 trillion. The increased investment in real estate thus increases the total amount of money which is in the world by an unimaginable figure. Therefore, it remains to be seen whether central banks of the various countries in the world would adopt a means of controlling the digital money. How Much Money Is There in the World? Countries Who Spend The Most Money Shopping Online US Maps'}]]}\n",
      "--------\n"
     ]
    }
   ],
   "source": [
    "for s in app.stream({\"messages\": [\"what is the total amount of money in the entire earth\"]}):\n",
    "    print(list(s.values())[0])\n",
    "    print(\"--------\")"
   ]
  },
  {
   "cell_type": "code",
   "execution_count": 68,
   "metadata": {},
   "outputs": [
    {
     "name": "stdout",
     "output_type": "stream",
     "text": [
      "{'messages': [AIMessage(content='', additional_kwargs={'tool_calls': [{'id': 'call_wwvx', 'function': {'arguments': '{\"query\":\"total amount of money in the world\"}', 'name': 'search'}, 'type': 'function'}]}, response_metadata={'token_usage': {'completion_tokens': 86, 'prompt_tokens': 1079, 'total_tokens': 1165, 'completion_time': 0.156363636, 'prompt_time': 0.034491111, 'queue_time': 0.022170418000000004, 'total_time': 0.190854747}, 'model_name': 'Gemma2-9b-It', 'system_fingerprint': 'fp_10c08bf97d', 'finish_reason': 'tool_calls', 'logprobs': None}, id='run-6184e155-8294-4147-9465-3b804389cb60-0', tool_calls=[{'name': 'search', 'args': {'query': 'total amount of money in the world'}, 'id': 'call_wwvx', 'type': 'tool_call'}], usage_metadata={'input_tokens': 1079, 'output_tokens': 86, 'total_tokens': 1165})]}\n",
      "--------\n",
      "Selected tool: search\n"
     ]
    },
    {
     "ename": "Exception",
     "evalue": "web search discard",
     "output_type": "error",
     "traceback": [
      "\u001b[1;31m---------------------------------------------------------------------------\u001b[0m",
      "\u001b[1;31mException\u001b[0m                                 Traceback (most recent call last)",
      "Cell \u001b[1;32mIn[68], line 1\u001b[0m\n\u001b[1;32m----> 1\u001b[0m \u001b[38;5;28;01mfor\u001b[39;00m s \u001b[38;5;129;01min\u001b[39;00m app\u001b[38;5;241m.\u001b[39mstream({\u001b[38;5;124m\"\u001b[39m\u001b[38;5;124mmessages\u001b[39m\u001b[38;5;124m\"\u001b[39m: [\u001b[38;5;124m\"\u001b[39m\u001b[38;5;124mwhat is the total amount of money in the entire earth\u001b[39m\u001b[38;5;124m\"\u001b[39m]}):\n\u001b[0;32m      2\u001b[0m     \u001b[38;5;28mprint\u001b[39m(\u001b[38;5;28mlist\u001b[39m(s\u001b[38;5;241m.\u001b[39mvalues())[\u001b[38;5;241m0\u001b[39m])\n\u001b[0;32m      3\u001b[0m     \u001b[38;5;28mprint\u001b[39m(\u001b[38;5;124m\"\u001b[39m\u001b[38;5;124m--------\u001b[39m\u001b[38;5;124m\"\u001b[39m)\n",
      "File \u001b[1;32mc:\\Users\\sowmy\\anaconda3\\envs\\langchain\\lib\\site-packages\\langgraph\\pregel\\__init__.py:1656\u001b[0m, in \u001b[0;36mPregel.stream\u001b[1;34m(self, input, config, stream_mode, output_keys, interrupt_before, interrupt_after, debug, subgraphs)\u001b[0m\n\u001b[0;32m   1650\u001b[0m     \u001b[38;5;66;03m# Similarly to Bulk Synchronous Parallel / Pregel model\u001b[39;00m\n\u001b[0;32m   1651\u001b[0m     \u001b[38;5;66;03m# computation proceeds in steps, while there are channel updates\u001b[39;00m\n\u001b[0;32m   1652\u001b[0m     \u001b[38;5;66;03m# channel updates from step N are only visible in step N+1\u001b[39;00m\n\u001b[0;32m   1653\u001b[0m     \u001b[38;5;66;03m# channels are guaranteed to be immutable for the duration of the step,\u001b[39;00m\n\u001b[0;32m   1654\u001b[0m     \u001b[38;5;66;03m# with channel updates applied only at the transition between steps\u001b[39;00m\n\u001b[0;32m   1655\u001b[0m     \u001b[38;5;28;01mwhile\u001b[39;00m loop\u001b[38;5;241m.\u001b[39mtick(input_keys\u001b[38;5;241m=\u001b[39m\u001b[38;5;28mself\u001b[39m\u001b[38;5;241m.\u001b[39minput_channels):\n\u001b[1;32m-> 1656\u001b[0m         \u001b[38;5;28;01mfor\u001b[39;00m _ \u001b[38;5;129;01min\u001b[39;00m runner\u001b[38;5;241m.\u001b[39mtick(\n\u001b[0;32m   1657\u001b[0m             loop\u001b[38;5;241m.\u001b[39mtasks\u001b[38;5;241m.\u001b[39mvalues(),\n\u001b[0;32m   1658\u001b[0m             timeout\u001b[38;5;241m=\u001b[39m\u001b[38;5;28mself\u001b[39m\u001b[38;5;241m.\u001b[39mstep_timeout,\n\u001b[0;32m   1659\u001b[0m             retry_policy\u001b[38;5;241m=\u001b[39m\u001b[38;5;28mself\u001b[39m\u001b[38;5;241m.\u001b[39mretry_policy,\n\u001b[0;32m   1660\u001b[0m             get_waiter\u001b[38;5;241m=\u001b[39mget_waiter,\n\u001b[0;32m   1661\u001b[0m         ):\n\u001b[0;32m   1662\u001b[0m             \u001b[38;5;66;03m# emit output\u001b[39;00m\n\u001b[0;32m   1663\u001b[0m             \u001b[38;5;28;01myield from\u001b[39;00m output()\n\u001b[0;32m   1664\u001b[0m \u001b[38;5;66;03m# emit output\u001b[39;00m\n",
      "File \u001b[1;32mc:\\Users\\sowmy\\anaconda3\\envs\\langchain\\lib\\site-packages\\langgraph\\pregel\\runner.py:167\u001b[0m, in \u001b[0;36mPregelRunner.tick\u001b[1;34m(self, tasks, reraise, timeout, retry_policy, get_waiter)\u001b[0m\n\u001b[0;32m    165\u001b[0m t \u001b[38;5;241m=\u001b[39m tasks[\u001b[38;5;241m0\u001b[39m]\n\u001b[0;32m    166\u001b[0m \u001b[38;5;28;01mtry\u001b[39;00m:\n\u001b[1;32m--> 167\u001b[0m     \u001b[43mrun_with_retry\u001b[49m\u001b[43m(\u001b[49m\n\u001b[0;32m    168\u001b[0m \u001b[43m        \u001b[49m\u001b[43mt\u001b[49m\u001b[43m,\u001b[49m\n\u001b[0;32m    169\u001b[0m \u001b[43m        \u001b[49m\u001b[43mretry_policy\u001b[49m\u001b[43m,\u001b[49m\n\u001b[0;32m    170\u001b[0m \u001b[43m        \u001b[49m\u001b[43mconfigurable\u001b[49m\u001b[38;5;241;43m=\u001b[39;49m\u001b[43m{\u001b[49m\n\u001b[0;32m    171\u001b[0m \u001b[43m            \u001b[49m\u001b[43mCONFIG_KEY_SEND\u001b[49m\u001b[43m:\u001b[49m\u001b[43m \u001b[49m\u001b[43mpartial\u001b[49m\u001b[43m(\u001b[49m\u001b[43mwriter\u001b[49m\u001b[43m,\u001b[49m\u001b[43m \u001b[49m\u001b[43mt\u001b[49m\u001b[43m)\u001b[49m\u001b[43m,\u001b[49m\n\u001b[0;32m    172\u001b[0m \u001b[43m            \u001b[49m\u001b[43mCONFIG_KEY_CALL\u001b[49m\u001b[43m:\u001b[49m\u001b[43m \u001b[49m\u001b[43mpartial\u001b[49m\u001b[43m(\u001b[49m\u001b[43mcall\u001b[49m\u001b[43m,\u001b[49m\u001b[43m \u001b[49m\u001b[43mt\u001b[49m\u001b[43m)\u001b[49m\u001b[43m,\u001b[49m\n\u001b[0;32m    173\u001b[0m \u001b[43m        \u001b[49m\u001b[43m}\u001b[49m\u001b[43m,\u001b[49m\n\u001b[0;32m    174\u001b[0m \u001b[43m    \u001b[49m\u001b[43m)\u001b[49m\n\u001b[0;32m    175\u001b[0m     \u001b[38;5;28mself\u001b[39m\u001b[38;5;241m.\u001b[39mcommit(t, \u001b[38;5;28;01mNone\u001b[39;00m)\n\u001b[0;32m    176\u001b[0m \u001b[38;5;28;01mexcept\u001b[39;00m \u001b[38;5;167;01mException\u001b[39;00m \u001b[38;5;28;01mas\u001b[39;00m exc:\n",
      "File \u001b[1;32mc:\\Users\\sowmy\\anaconda3\\envs\\langchain\\lib\\site-packages\\langgraph\\pregel\\retry.py:40\u001b[0m, in \u001b[0;36mrun_with_retry\u001b[1;34m(task, retry_policy, configurable)\u001b[0m\n\u001b[0;32m     38\u001b[0m     task\u001b[38;5;241m.\u001b[39mwrites\u001b[38;5;241m.\u001b[39mclear()\n\u001b[0;32m     39\u001b[0m     \u001b[38;5;66;03m# run the task\u001b[39;00m\n\u001b[1;32m---> 40\u001b[0m     \u001b[38;5;28;01mreturn\u001b[39;00m \u001b[43mtask\u001b[49m\u001b[38;5;241;43m.\u001b[39;49m\u001b[43mproc\u001b[49m\u001b[38;5;241;43m.\u001b[39;49m\u001b[43minvoke\u001b[49m\u001b[43m(\u001b[49m\u001b[43mtask\u001b[49m\u001b[38;5;241;43m.\u001b[39;49m\u001b[43minput\u001b[49m\u001b[43m,\u001b[49m\u001b[43m \u001b[49m\u001b[43mconfig\u001b[49m\u001b[43m)\u001b[49m\n\u001b[0;32m     41\u001b[0m \u001b[38;5;28;01mexcept\u001b[39;00m ParentCommand \u001b[38;5;28;01mas\u001b[39;00m exc:\n\u001b[0;32m     42\u001b[0m     ns: \u001b[38;5;28mstr\u001b[39m \u001b[38;5;241m=\u001b[39m config[CONF][CONFIG_KEY_CHECKPOINT_NS]\n",
      "File \u001b[1;32mc:\\Users\\sowmy\\anaconda3\\envs\\langchain\\lib\\site-packages\\langgraph\\utils\\runnable.py:408\u001b[0m, in \u001b[0;36mRunnableSeq.invoke\u001b[1;34m(self, input, config, **kwargs)\u001b[0m\n\u001b[0;32m    404\u001b[0m config \u001b[38;5;241m=\u001b[39m patch_config(\n\u001b[0;32m    405\u001b[0m     config, callbacks\u001b[38;5;241m=\u001b[39mrun_manager\u001b[38;5;241m.\u001b[39mget_child(\u001b[38;5;124mf\u001b[39m\u001b[38;5;124m\"\u001b[39m\u001b[38;5;124mseq:step:\u001b[39m\u001b[38;5;132;01m{\u001b[39;00mi\u001b[38;5;241m+\u001b[39m\u001b[38;5;241m1\u001b[39m\u001b[38;5;132;01m}\u001b[39;00m\u001b[38;5;124m\"\u001b[39m)\n\u001b[0;32m    406\u001b[0m )\n\u001b[0;32m    407\u001b[0m \u001b[38;5;28;01mif\u001b[39;00m i \u001b[38;5;241m==\u001b[39m \u001b[38;5;241m0\u001b[39m:\n\u001b[1;32m--> 408\u001b[0m     \u001b[38;5;28minput\u001b[39m \u001b[38;5;241m=\u001b[39m step\u001b[38;5;241m.\u001b[39minvoke(\u001b[38;5;28minput\u001b[39m, config, \u001b[38;5;241m*\u001b[39m\u001b[38;5;241m*\u001b[39mkwargs)\n\u001b[0;32m    409\u001b[0m \u001b[38;5;28;01melse\u001b[39;00m:\n\u001b[0;32m    410\u001b[0m     \u001b[38;5;28minput\u001b[39m \u001b[38;5;241m=\u001b[39m step\u001b[38;5;241m.\u001b[39minvoke(\u001b[38;5;28minput\u001b[39m, config)\n",
      "File \u001b[1;32mc:\\Users\\sowmy\\anaconda3\\envs\\langchain\\lib\\site-packages\\langgraph\\utils\\runnable.py:184\u001b[0m, in \u001b[0;36mRunnableCallable.invoke\u001b[1;34m(self, input, config, **kwargs)\u001b[0m\n\u001b[0;32m    182\u001b[0m \u001b[38;5;28;01melse\u001b[39;00m:\n\u001b[0;32m    183\u001b[0m     context\u001b[38;5;241m.\u001b[39mrun(_set_config_context, config)\n\u001b[1;32m--> 184\u001b[0m     ret \u001b[38;5;241m=\u001b[39m context\u001b[38;5;241m.\u001b[39mrun(\u001b[38;5;28mself\u001b[39m\u001b[38;5;241m.\u001b[39mfunc, \u001b[38;5;28minput\u001b[39m, \u001b[38;5;241m*\u001b[39m\u001b[38;5;241m*\u001b[39mkwargs)\n\u001b[0;32m    185\u001b[0m \u001b[38;5;28;01mif\u001b[39;00m \u001b[38;5;28misinstance\u001b[39m(ret, Runnable) \u001b[38;5;129;01mand\u001b[39;00m \u001b[38;5;28mself\u001b[39m\u001b[38;5;241m.\u001b[39mrecurse:\n\u001b[0;32m    186\u001b[0m     \u001b[38;5;28;01mreturn\u001b[39;00m ret\u001b[38;5;241m.\u001b[39minvoke(\u001b[38;5;28minput\u001b[39m, config)\n",
      "Cell \u001b[1;32mIn[60], line 12\u001b[0m, in \u001b[0;36minvoke_tool\u001b[1;34m(state)\u001b[0m\n\u001b[0;32m     10\u001b[0m     response \u001b[38;5;241m=\u001b[39m \u001b[38;5;28minput\u001b[39m(prompt\u001b[38;5;241m=\u001b[39m\u001b[38;5;124mf\u001b[39m\u001b[38;5;124m\"\u001b[39m\u001b[38;5;124m[y/n] continue with expensive web search?\u001b[39m\u001b[38;5;124m\"\u001b[39m)\n\u001b[0;32m     11\u001b[0m     \u001b[38;5;28;01mif\u001b[39;00m response \u001b[38;5;241m==\u001b[39m \u001b[38;5;124m\"\u001b[39m\u001b[38;5;124mn\u001b[39m\u001b[38;5;124m\"\u001b[39m:\n\u001b[1;32m---> 12\u001b[0m         \u001b[38;5;28;01mraise\u001b[39;00m \u001b[38;5;167;01mException\u001b[39;00m(\u001b[38;5;124m\"\u001b[39m\u001b[38;5;124mweb search discard\u001b[39m\u001b[38;5;124m\"\u001b[39m)\n\u001b[0;32m     14\u001b[0m response \u001b[38;5;241m=\u001b[39m tool_mapping[tool_details[\u001b[38;5;124m'\u001b[39m\u001b[38;5;124mfunction\u001b[39m\u001b[38;5;124m'\u001b[39m][\u001b[38;5;124m'\u001b[39m\u001b[38;5;124mname\u001b[39m\u001b[38;5;124m'\u001b[39m]]\u001b[38;5;241m.\u001b[39minvoke(json\u001b[38;5;241m.\u001b[39mloads(tool_details\u001b[38;5;241m.\u001b[39mget(\u001b[38;5;124m\"\u001b[39m\u001b[38;5;124mfunction\u001b[39m\u001b[38;5;124m\"\u001b[39m)\u001b[38;5;241m.\u001b[39mget(\u001b[38;5;124m\"\u001b[39m\u001b[38;5;124marguments\u001b[39m\u001b[38;5;124m\"\u001b[39m)))\n\u001b[0;32m     15\u001b[0m \u001b[38;5;28;01mreturn\u001b[39;00m {\u001b[38;5;124m\"\u001b[39m\u001b[38;5;124mmessages\u001b[39m\u001b[38;5;124m\"\u001b[39m: [response]}\n",
      "\u001b[1;31mException\u001b[0m: web search discard"
     ]
    }
   ],
   "source": [
    "for s in app.stream({\"messages\": [\"what is the total amount of money in the entire earth\"]}):\n",
    "    print(list(s.values())[0])\n",
    "    print(\"--------\")"
   ]
  },
  {
   "cell_type": "code",
   "execution_count": null,
   "metadata": {},
   "outputs": [],
   "source": []
  },
  {
   "cell_type": "markdown",
   "metadata": {},
   "source": [
    "### LangGraph suports human-in-loop workflows in a number of ways. In this section, we will use LangGraph's interrupt_before functionality to always break the tool node"
   ]
  },
  {
   "cell_type": "code",
   "execution_count": 69,
   "metadata": {},
   "outputs": [],
   "source": [
    "from langchain_groq import ChatGroq\n",
    "llm = ChatGroq(model=\"Gemma2-9b-It\")"
   ]
  },
  {
   "cell_type": "code",
   "execution_count": 70,
   "metadata": {},
   "outputs": [],
   "source": [
    "class AgentState(TypedDict):\n",
    "    messages: Annotated[list, add_messages]"
   ]
  },
  {
   "cell_type": "code",
   "execution_count": 71,
   "metadata": {},
   "outputs": [],
   "source": [
    "tavily = TavilySearchResults()"
   ]
  },
  {
   "cell_type": "code",
   "execution_count": 72,
   "metadata": {},
   "outputs": [],
   "source": [
    "tools = [tavily]"
   ]
  },
  {
   "cell_type": "code",
   "execution_count": 73,
   "metadata": {},
   "outputs": [],
   "source": [
    "llm_with_tools = llm.bind_tools(tools)"
   ]
  },
  {
   "cell_type": "code",
   "execution_count": 74,
   "metadata": {},
   "outputs": [],
   "source": [
    "def ai_assistant(state: AgentState):\n",
    "    return {\"messages\": [llm_with_tools.invoke(state['messages'])]}"
   ]
  },
  {
   "cell_type": "code",
   "execution_count": 75,
   "metadata": {},
   "outputs": [],
   "source": [
    "memory = MemorySaver()"
   ]
  },
  {
   "cell_type": "code",
   "execution_count": 77,
   "metadata": {},
   "outputs": [],
   "source": [
    "graph_builder = StateGraph(AgentState)\n",
    "\n",
    "graph_builder.add_node(\"ai_assistant\", ai_assistant)\n",
    "\n",
    "tool_node = ToolNode(tools)\n",
    "graph_builder.add_node(\"tools\", tool_node)\n",
    "\n",
    "graph_builder.add_edge(START, \"ai_assistant\")\n",
    "graph_builder.add_conditional_edges(\n",
    "    \"ai_assistant\",\n",
    "    tools_condition\n",
    ")\n",
    "graph_builder.add_edge(\"tools\", \"ai_assistant\")\n",
    "\n",
    "app2 = graph_builder.compile(\n",
    "    checkpointer=memory,\n",
    "    interrupt_before=[\"tools\"]\n",
    ")"
   ]
  },
  {
   "cell_type": "code",
   "execution_count": 78,
   "metadata": {},
   "outputs": [
    {
     "data": {
      "image/png": "[encoded data removed]",
      "text/plain": [
       "<IPython.core.display.Image object>"
      ]
     },
     "metadata": {},
     "output_type": "display_data"
    }
   ],
   "source": [
    "from IPython.display import Image, display\n",
    "\n",
    "try:\n",
    "    display(Image(app2.get_graph().draw_mermaid_png()))\n",
    "except Exception as e:\n",
    "    print(e)"
   ]
  },
  {
   "cell_type": "code",
   "execution_count": 192,
   "metadata": {},
   "outputs": [],
   "source": [
    "user_input = \"what is the capital of india?\"\n",
    "config = {\"configurable\": {\"thread_id\": \"8\"}}"
   ]
  },
  {
   "cell_type": "code",
   "execution_count": 193,
   "metadata": {},
   "outputs": [],
   "source": [
    "events = app2.stream(\n",
    "    {\"messages\": [(\"user\", user_input)]}, config, stream_mode=\"values\"\n",
    ")"
   ]
  },
  {
   "cell_type": "code",
   "execution_count": 194,
   "metadata": {},
   "outputs": [
    {
     "name": "stdout",
     "output_type": "stream",
     "text": [
      "================================\u001b[1m Human Message \u001b[0m=================================\n",
      "\n",
      "what is the capital of india?\n",
      "==================================\u001b[1m Ai Message \u001b[0m==================================\n",
      "Tool Calls:\n",
      "  tavily_search_results_json (call_zmvd)\n",
      " Call ID: call_zmvd\n",
      "  Args:\n",
      "    query: What is the capital of India?\n"
     ]
    }
   ],
   "source": [
    "for event in events:\n",
    "    if \"messages\" in event:\n",
    "        event['messages'][-1].pretty_print()"
   ]
  },
  {
   "cell_type": "code",
   "execution_count": 195,
   "metadata": {},
   "outputs": [],
   "source": [
    "snapshot = app2.get_state(config)"
   ]
  },
  {
   "cell_type": "code",
   "execution_count": 196,
   "metadata": {},
   "outputs": [
    {
     "data": {
      "text/plain": [
       "('tools',)"
      ]
     },
     "execution_count": 196,
     "metadata": {},
     "output_type": "execute_result"
    }
   ],
   "source": [
    "snapshot.next"
   ]
  },
  {
   "cell_type": "code",
   "execution_count": 197,
   "metadata": {},
   "outputs": [],
   "source": [
    "last_message = snapshot.values[\"messages\"][-1]"
   ]
  },
  {
   "cell_type": "code",
   "execution_count": 198,
   "metadata": {},
   "outputs": [
    {
     "data": {
      "text/plain": [
       "[{'name': 'tavily_search_results_json',\n",
       "  'args': {'query': 'What is the capital of India?'},\n",
       "  'id': 'call_zmvd',\n",
       "  'type': 'tool_call'}]"
      ]
     },
     "execution_count": 198,
     "metadata": {},
     "output_type": "execute_result"
    }
   ],
   "source": [
    "last_message.tool_calls"
   ]
  },
  {
   "cell_type": "code",
   "execution_count": 199,
   "metadata": {},
   "outputs": [],
   "source": [
    "# None will append nothing new to the current state, letting it resume as if it had never been interrupted\n",
    "events = app2.stream(None, config, stream_mode=\"values\")"
   ]
  },
  {
   "cell_type": "code",
   "execution_count": 200,
   "metadata": {},
   "outputs": [
    {
     "name": "stdout",
     "output_type": "stream",
     "text": [
      "==================================\u001b[1m Ai Message \u001b[0m==================================\n",
      "Tool Calls:\n",
      "  tavily_search_results_json (call_zmvd)\n",
      " Call ID: call_zmvd\n",
      "  Args:\n",
      "    query: What is the capital of India?\n",
      "=================================\u001b[1m Tool Message \u001b[0m=================================\n",
      "Name: tavily_search_results_json\n",
      "\n",
      "[{\"url\": \"https://www.geeksforgeeks.org/what-is-the-capital-city-of-india/\", \"content\": \"The capital city of India is New Delhi, situated in the northern part of the country. It was officially declared the capital of India in 1911 during British rule, replacing Kolkata. New Delhi serves as the political, cultural, and administrative center of India. The city is renowned for its rich history, diverse culture, and architectural\"}, {\"url\": \"https://www.worldatlas.com/articles/what-is-the-capital-of-india.html\", \"content\": \"Related\\nThe Largest Empires In The History Of India\\nBiggest Ethnic Groups In India\\nMore in World Facts\\nThe Largest Countries In Asia By Area\\n Also, the durbar was held in Delhi so as to welcome the Prince of Wales; hence the British associated Delhi with royal heritage.\\n What is the Capital of India?\\nIndia, also known as the Republic of India is located in South Asia. For historical reasons, Red Fort which is located in New Delhi is a reminder to the British when they defeated the Mughal ruler in 1857. Initially, the capital city was in Kolkata when King George V of Britain ordered that the capital be moved to Delhi in 1911.\"}, {\"url\": \"https://www.usatoday.com/story/news/world/2023/05/24/what-is-the-capital-of-india/70195720007/\", \"content\": \"What is the oldest language?Endangered and extinct dialects, explained\\nWorld’s most populous city:Top 10 cities in the world, US ranked\\nHow many states are in India?\\nIndia is home to 28 states, each with its own capital and run by a Governor who represents the President:\\nIndia also has eight union territories, governed by an Administrator appointed by the President:\\nWhat state is New Delhi in?\\nNew Delhi is part of one of India’s union territories, the National Capital Territory of Dehli. The capital of India is New Delhi, located in the north-central part of the country to the west of the Yamuna River.\\n Calcutta (now Kolkata, the capital of West Bengal) was the country’s capital until 1911 when King George V declared Delhi the new capital and construction of New Delhi began.\\n Mumbai, the state capital of Maharashtra, is often considered the financial capital of India because of its role in the national and international economy.\\n About 1.4 billion people live in India, and the country is predicted to top China as the world’s most populous country by mid-2023, the United Nations reports.\"}, {\"url\": \"https://www.britannica.com/place/Delhi\", \"content\": \"The city of Delhi actually consists of two components: Old Delhi, in the north, the historic city; and New Delhi, in the south, since 1947 the capital of India, built in the first part of the 20th century as the capital of British India.\\n Two sides of the triangle are articulated by the rocky hills of the Aravalli Range—one to the south of the city, the other on its western edge, where it is known as the Delhi Ridge. To the east the territory is bounded by the state of Uttar Pradesh, and to the north, west, and south it is bounded by the state of Haryana.\\n One of the country’s largest urban agglomerations, Delhi sits astride (but primarily on the west bank of) the Yamuna River, a tributary of the Ganges (Ganga) River, about 100 miles (160 km) south of the Himalayas. The summer season lasts from mid-March to the end of June, with maximum temperatures typically reaching about 100 °F (about 37 °C) and minimum temperatures falling into the high 70s F (about 25 °C); it is characterized by frequent thunderstorms and squalls, especially in April and May.\"}, {\"url\": \"https://en.wikipedia.org/wiki/Delhi\", \"content\": \"New Delhi was officially declared as the capital of the Union of India after the country gained independence on 15 August 1947.[55] It has expanded since; the small part of it that was constructed during the British period has come to be informally known as Lutyens' Delhi.[56]\\nPartition and post-independence\\nDuring the partition of India, around five hundred thousand Hindu and Sikh refugees, mainly from West Punjab fled to Delhi, while around three hundred thousand Muslim residents of the city migrated to Pakistan.[59][60] Ethnic Punjabis are believed to account for at least 40% of Delhi's total population and are predominantly Hindi-speaking Punjabi Hindus.[61][62][63] Migration to Delhi from the rest of India continues (as of 2013[update]), contributing more to the rise of Delhi's population than the birth rate, which is declining.[64]\\nThe States Reorganisation Act, 1956 created the Union Territory of Delhi from its predecessor, the Chief Commissioner's Province of Delhi.[1][2] According to the 2011 census, Delhi's city proper population was over 11 million,[6][16] while the NCT's population was about 16.8 million.[7]\\nDelhi's urban agglomeration, which includes the satellite cities Ghaziabad, Faridabad, Gurgaon, Noida, Greater Noida, Meerut and YEIDA city in an area known as the National Capital Region (NCR), has an estimated population of over 28 million, making it the largest metropolitan area in India and the second-largest in the world (after Tokyo).[8]\\nThe topography of the medieval fort Purana Qila on the banks of the river Yamuna matches the literary description of the citadel Indraprastha in the Sanskrit epic Mahabharata; however, excavations in the area have revealed no signs of an ancient built environment. In addition to the wetlands formed by the Yamuna river, Delhi continues to retain over 500 ponds (wetlands < 5 ha (12 acres)), that in turn support considerable number of bird species.[76] Delhi's ponds, despite experiencing ecological deterioration due to garbage dumping and concretisation, support the largest number of bird species known to be using ponds anywhere in the world.[77] Existing policy in Delhi prevents the conversion of wetlands and, quite inadvertently, has led to the city's ponds becoming invaluable refugia for birds.[76][77]\\nThe National Capital Territory of Delhi covers an area of 1,483 km2 (573 sq mi), of which 783 km2 (302 sq mi) is designated rural, and 700 km2 (270 sq mi) urban therefore making it the largest city in terms of area in the country. The Mughal dynasty ruled Delhi for more than three centuries, with a sixteen-year hiatus during the reigns of Sher Shah Suri and Hemu from 1540 to 1556.[43] Shah Jahan built the seventh city of Delhi that bears his name Shahjahanabad, which served as the capital of the Mughal Empire from 1638 and is today known as the Old City or Old Delhi.[44]\\nAfter the death of Aurangzeb in 1707, the Mughal Empire's influence declined rapidly as the Hindu Maratha Empire from Deccan Plateau rose to prominence.[45] In 1737, Maratha forces led by Baji Rao I sacked Delhi following their victory against the Mughals in the First Battle of Delhi. Delhi hosted the inaugural 1951 Asian Games, the 1982 Asian Games, the 1983 Non-Aligned Movement summit, the 2010 Men's Hockey World Cup, the 2010 Commonwealth Games, and the 2012 BRICS summit and was one of the major host cities of the 2011 Cricket World Cup and 2023 Cricket World Cup\\nToponym\\nThere are a number of myths and legends associated with the origin of the name Delhi.\"}]\n",
      "==================================\u001b[1m Ai Message \u001b[0m==================================\n",
      "Tool Calls:\n",
      "  tavily_search_results_json (call_0vw3)\n",
      " Call ID: call_0vw3\n",
      "  Args:\n",
      "    query: What is the capital of India?\n"
     ]
    }
   ],
   "source": [
    "for event in events:\n",
    "    if \"messages\" in event:\n",
    "        event['messages'][-1].pretty_print()"
   ]
  },
  {
   "cell_type": "code",
   "execution_count": null,
   "metadata": {},
   "outputs": [],
   "source": []
  },
  {
   "cell_type": "code",
   "execution_count": 161,
   "metadata": {},
   "outputs": [],
   "source": [
    "user_input = \"What is a weather in Delhi?\"\n",
    "\n",
    "config = {\"configurable\": {\"thread_id\": \"6\"}}"
   ]
  },
  {
   "cell_type": "code",
   "execution_count": 162,
   "metadata": {},
   "outputs": [],
   "source": [
    "events = app2.stream(\n",
    "    {\"messages\": [(\"user\", user_input)]}, config, stream_mode=\"values\"\n",
    ")"
   ]
  },
  {
   "cell_type": "code",
   "execution_count": 163,
   "metadata": {},
   "outputs": [
    {
     "name": "stdout",
     "output_type": "stream",
     "text": [
      "================================\u001b[1m Human Message \u001b[0m=================================\n",
      "\n",
      "What is a weather in Delhi?\n",
      "==================================\u001b[1m Ai Message \u001b[0m==================================\n",
      "Tool Calls:\n",
      "  tavily_search_results_json (call_rnk0)\n",
      " Call ID: call_rnk0\n",
      "  Args:\n",
      "    query: weather in Delhi\n"
     ]
    }
   ],
   "source": [
    "for event in events:\n",
    "    if \"messages\" in event:\n",
    "        event['messages'][-1].pretty_print()"
   ]
  },
  {
   "cell_type": "code",
   "execution_count": 164,
   "metadata": {},
   "outputs": [],
   "source": [
    "snapshot = app2.get_state(config)"
   ]
  },
  {
   "cell_type": "code",
   "execution_count": 165,
   "metadata": {},
   "outputs": [
    {
     "data": {
      "text/plain": [
       "('tools',)"
      ]
     },
     "execution_count": 165,
     "metadata": {},
     "output_type": "execute_result"
    }
   ],
   "source": [
    "snapshot.next"
   ]
  },
  {
   "cell_type": "code",
   "execution_count": 166,
   "metadata": {},
   "outputs": [],
   "source": [
    "last_message = snapshot.values[\"messages\"][-1]"
   ]
  },
  {
   "cell_type": "code",
   "execution_count": 167,
   "metadata": {},
   "outputs": [
    {
     "data": {
      "text/plain": [
       "[{'name': 'tavily_search_results_json',\n",
       "  'args': {'query': 'weather in Delhi'},\n",
       "  'id': 'call_rnk0',\n",
       "  'type': 'tool_call'}]"
      ]
     },
     "execution_count": 167,
     "metadata": {},
     "output_type": "execute_result"
    }
   ],
   "source": [
    "last_message.tool_calls"
   ]
  },
  {
   "cell_type": "code",
   "execution_count": 170,
   "metadata": {},
   "outputs": [],
   "source": [
    "# None will append nothing new to the current state, letting it resume as if it had never been interrupted\n",
    "events = app2.stream(None, config, stream_mode=\"values\")"
   ]
  },
  {
   "cell_type": "code",
   "execution_count": 171,
   "metadata": {},
   "outputs": [
    {
     "name": "stdout",
     "output_type": "stream",
     "text": [
      "==================================\u001b[1m Ai Message \u001b[0m==================================\n",
      "\n",
      "```json\n",
      "{\"tool_call\":{\"id\":\"call_rnk0\",\"type\":\"function\",\"function\":{\"name\":\"tavily_search_results_json\"},\"parameters\":{\"query\":\"weather in Delhi\"}}}\n",
      "```\n"
     ]
    }
   ],
   "source": [
    "for event in events:\n",
    "    if \"messages\" in event:\n",
    "        event['messages'][-1].pretty_print()"
   ]
  },
  {
   "cell_type": "code",
   "execution_count": 172,
   "metadata": {},
   "outputs": [],
   "source": [
    "user_input = \"give me the recent news of it?\"\n",
    "\n",
    "config = {\"configurable\": {\"thread_id\": \"6\"}}"
   ]
  },
  {
   "cell_type": "code",
   "execution_count": 173,
   "metadata": {},
   "outputs": [],
   "source": [
    "events = app2.stream(\n",
    "    {\"messages\": [(\"user\", user_input)]}, config, stream_mode=\"values\"\n",
    ")"
   ]
  },
  {
   "cell_type": "code",
   "execution_count": 174,
   "metadata": {},
   "outputs": [
    {
     "name": "stdout",
     "output_type": "stream",
     "text": [
      "================================\u001b[1m Human Message \u001b[0m=================================\n",
      "\n",
      "give me the recent news of it?\n",
      "==================================\u001b[1m Ai Message \u001b[0m==================================\n",
      "Tool Calls:\n",
      "  tavily_search_results_json (call_aefv)\n",
      " Call ID: call_aefv\n",
      "  Args:\n",
      "    query: recent news Delhi weather\n"
     ]
    }
   ],
   "source": [
    "\n",
    "for event in events:\n",
    "    if \"messages\" in event:\n",
    "        event[\"messages\"][-1].pretty_print()"
   ]
  },
  {
   "cell_type": "code",
   "execution_count": 175,
   "metadata": {},
   "outputs": [],
   "source": [
    "snapshot=app2.get_state(config)"
   ]
  },
  {
   "cell_type": "code",
   "execution_count": 176,
   "metadata": {},
   "outputs": [],
   "source": [
    "current_message = snapshot.values[\"messages\"][-1]"
   ]
  },
  {
   "cell_type": "code",
   "execution_count": 177,
   "metadata": {},
   "outputs": [
    {
     "name": "stdout",
     "output_type": "stream",
     "text": [
      "==================================\u001b[1m Ai Message \u001b[0m==================================\n",
      "Tool Calls:\n",
      "  tavily_search_results_json (call_aefv)\n",
      " Call ID: call_aefv\n",
      "  Args:\n",
      "    query: recent news Delhi weather\n"
     ]
    }
   ],
   "source": [
    "current_message.pretty_print()"
   ]
  },
  {
   "cell_type": "code",
   "execution_count": 178,
   "metadata": {},
   "outputs": [],
   "source": [
    "tool_call_id = current_message.tool_calls[0][\"id\"] "
   ]
  },
  {
   "cell_type": "code",
   "execution_count": 179,
   "metadata": {},
   "outputs": [
    {
     "data": {
      "text/plain": [
       "'call_aefv'"
      ]
     },
     "execution_count": 179,
     "metadata": {},
     "output_type": "execute_result"
    }
   ],
   "source": [
    "tool_call_id"
   ]
  },
  {
   "cell_type": "code",
   "execution_count": 180,
   "metadata": {},
   "outputs": [],
   "source": [
    "from langchain_core.messages import AIMessage, ToolMessage"
   ]
  },
  {
   "cell_type": "code",
   "execution_count": 181,
   "metadata": {},
   "outputs": [],
   "source": [
    "answer = \"it is just related to raining which is happing on daily basis\""
   ]
  },
  {
   "cell_type": "code",
   "execution_count": 182,
   "metadata": {},
   "outputs": [],
   "source": [
    "new_messages = [\n",
    "    ToolMessage(content=answer, tool_call_id=tool_call_id),\n",
    "    AIMessage(content=answer),\n",
    "]"
   ]
  },
  {
   "cell_type": "code",
   "execution_count": 183,
   "metadata": {},
   "outputs": [
    {
     "data": {
      "text/plain": [
       "{'configurable': {'thread_id': '6',\n",
       "  'checkpoint_ns': '',\n",
       "  'checkpoint_id': '1efcd217-4893-6dfa-8007-ee1e9bea2ecb'}}"
      ]
     },
     "execution_count": 183,
     "metadata": {},
     "output_type": "execute_result"
    }
   ],
   "source": [
    "app2.update_state(\n",
    "    config,\n",
    "    {\"messages\": new_messages},\n",
    ")"
   ]
  },
  {
   "cell_type": "code",
   "execution_count": 184,
   "metadata": {},
   "outputs": [
    {
     "name": "stdout",
     "output_type": "stream",
     "text": [
      "[AIMessage(content='it is just related to raining which is happing on daily basis', additional_kwargs={}, response_metadata={}, id='fb66b7ab-5629-41be-8826-c647f37ebd0a')]\n"
     ]
    }
   ],
   "source": [
    "print(app2.get_state(config).values[\"messages\"][-1:])"
   ]
  },
  {
   "cell_type": "code",
   "execution_count": null,
   "metadata": {},
   "outputs": [],
   "source": []
  }
 ],
 "metadata": {
  "kernelspec": {
   "display_name": "langchain",
   "language": "python",
   "name": "python3"
  },
  "language_info": {
   "codemirror_mode": {
    "name": "ipython",
    "version": 3
   },
   "file_extension": ".py",
   "mimetype": "text/x-python",
   "name": "python",
   "nbconvert_exporter": "python",
   "pygments_lexer": "ipython3",
   "version": "3.10.0"
  }
 },
 "nbformat": 4,
 "nbformat_minor": 2
}
